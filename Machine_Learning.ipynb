{
 "cells": [
  {
   "cell_type": "markdown",
   "metadata": {},
   "source": [
    "# Assignment to build a Machine Learning model\n",
    "### sample-data from the GitHub repo\n",
    "### https://github.com/internbuddy/foster-app.git\n",
    "\n"
   ]
  },
  {
   "cell_type": "markdown",
   "metadata": {},
   "source": [
    "### import required libraries"
   ]
  },
  {
   "cell_type": "code",
   "execution_count": 1,
   "metadata": {},
   "outputs": [],
   "source": [
    "import pandas as pd \n",
    "import numpy as np"
   ]
  },
  {
   "cell_type": "markdown",
   "metadata": {},
   "source": [
    "### Load Data From xlsx File"
   ]
  },
  {
   "cell_type": "code",
   "execution_count": 2,
   "metadata": {},
   "outputs": [],
   "source": [
    "# Read in the data\n",
    "path='F:\\\\teju\\\\mavoix_ml_sample_dataset.xlsx'\n",
    "\n",
    "data = pd.read_excel(path,\n",
    "header=0,\n",
    "index_col=False,\n",
    "keep_default_na=True\n",
    ")"
   ]
  },
  {
   "cell_type": "code",
   "execution_count": 3,
   "metadata": {},
   "outputs": [
    {
     "data": {
      "text/html": [
       "<div>\n",
       "<style scoped>\n",
       "    .dataframe tbody tr th:only-of-type {\n",
       "        vertical-align: middle;\n",
       "    }\n",
       "\n",
       "    .dataframe tbody tr th {\n",
       "        vertical-align: top;\n",
       "    }\n",
       "\n",
       "    .dataframe thead th {\n",
       "        text-align: right;\n",
       "    }\n",
       "</style>\n",
       "<table border=\"1\" class=\"dataframe\">\n",
       "  <thead>\n",
       "    <tr style=\"text-align: right;\">\n",
       "      <th></th>\n",
       "      <th>Application_ID</th>\n",
       "      <th>Current City</th>\n",
       "      <th>Python (out of 3)</th>\n",
       "      <th>R Programming (out of 3)</th>\n",
       "      <th>Deep Learning (out of 3)</th>\n",
       "      <th>PHP (out of 3)</th>\n",
       "      <th>MySQL (out of 3)</th>\n",
       "      <th>HTML (out of 3)</th>\n",
       "      <th>CSS (out of 3)</th>\n",
       "      <th>JavaScript (out of 3)</th>\n",
       "      <th>...</th>\n",
       "      <th>Node.js (out of 3)</th>\n",
       "      <th>ReactJS (out of 3)</th>\n",
       "      <th>Other skills</th>\n",
       "      <th>Degree</th>\n",
       "      <th>Stream</th>\n",
       "      <th>Current Year Of Graduation</th>\n",
       "      <th>Performance_PG</th>\n",
       "      <th>Performance_UG</th>\n",
       "      <th>Performance_12</th>\n",
       "      <th>Performance_10</th>\n",
       "    </tr>\n",
       "  </thead>\n",
       "  <tbody>\n",
       "    <tr>\n",
       "      <th>0</th>\n",
       "      <td>ML0001</td>\n",
       "      <td>Bangalore</td>\n",
       "      <td>0</td>\n",
       "      <td>2</td>\n",
       "      <td>0</td>\n",
       "      <td>2</td>\n",
       "      <td>0</td>\n",
       "      <td>2</td>\n",
       "      <td>3</td>\n",
       "      <td>2</td>\n",
       "      <td>...</td>\n",
       "      <td>0</td>\n",
       "      <td>0</td>\n",
       "      <td>R Programming</td>\n",
       "      <td>Bachelor of Science (B.Sc)</td>\n",
       "      <td>Mathematics</td>\n",
       "      <td>2017</td>\n",
       "      <td>NaN</td>\n",
       "      <td>NaN</td>\n",
       "      <td>NaN</td>\n",
       "      <td>NaN</td>\n",
       "    </tr>\n",
       "    <tr>\n",
       "      <th>1</th>\n",
       "      <td>ML0002</td>\n",
       "      <td>Bangalore</td>\n",
       "      <td>2</td>\n",
       "      <td>0</td>\n",
       "      <td>0</td>\n",
       "      <td>2</td>\n",
       "      <td>2</td>\n",
       "      <td>2</td>\n",
       "      <td>2</td>\n",
       "      <td>2</td>\n",
       "      <td>...</td>\n",
       "      <td>0</td>\n",
       "      <td>0</td>\n",
       "      <td>Data Science, Machine Learning, Neural Network...</td>\n",
       "      <td>Bachelor of Technology (B.Tech)</td>\n",
       "      <td>Computer Science &amp; Engineering</td>\n",
       "      <td>2019</td>\n",
       "      <td>NaN</td>\n",
       "      <td>85.50/100</td>\n",
       "      <td>92.20/92.20</td>\n",
       "      <td>96.60/96.60</td>\n",
       "    </tr>\n",
       "    <tr>\n",
       "      <th>2</th>\n",
       "      <td>ML0003</td>\n",
       "      <td>Bangalore</td>\n",
       "      <td>3</td>\n",
       "      <td>0</td>\n",
       "      <td>1</td>\n",
       "      <td>2</td>\n",
       "      <td>2</td>\n",
       "      <td>2</td>\n",
       "      <td>0</td>\n",
       "      <td>2</td>\n",
       "      <td>...</td>\n",
       "      <td>0</td>\n",
       "      <td>0</td>\n",
       "      <td>Algorithms, Data Structures, Python, C Program...</td>\n",
       "      <td>Master of Science (M.Sc)</td>\n",
       "      <td>Computer  Science</td>\n",
       "      <td>2018</td>\n",
       "      <td>7.91/10</td>\n",
       "      <td>70.00/100</td>\n",
       "      <td>64.83/64.83</td>\n",
       "      <td>77.60/77.60</td>\n",
       "    </tr>\n",
       "  </tbody>\n",
       "</table>\n",
       "<p>3 rows × 24 columns</p>\n",
       "</div>"
      ],
      "text/plain": [
       "  Application_ID Current City  Python (out of 3)  R Programming (out of 3)  \\\n",
       "0         ML0001    Bangalore                  0                         2   \n",
       "1         ML0002    Bangalore                  2                         0   \n",
       "2         ML0003    Bangalore                  3                         0   \n",
       "\n",
       "   Deep Learning (out of 3)  PHP (out of 3)  MySQL (out of 3)  \\\n",
       "0                         0               2                 0   \n",
       "1                         0               2                 2   \n",
       "2                         1               2                 2   \n",
       "\n",
       "   HTML (out of 3)  CSS (out of 3)  JavaScript (out of 3)  ...  \\\n",
       "0                2               3                      2  ...   \n",
       "1                2               2                      2  ...   \n",
       "2                2               0                      2  ...   \n",
       "\n",
       "   Node.js (out of 3)  ReactJS (out of 3)  \\\n",
       "0                   0                   0   \n",
       "1                   0                   0   \n",
       "2                   0                   0   \n",
       "\n",
       "                                        Other skills  \\\n",
       "0                                      R Programming   \n",
       "1  Data Science, Machine Learning, Neural Network...   \n",
       "2  Algorithms, Data Structures, Python, C Program...   \n",
       "\n",
       "                            Degree                          Stream  \\\n",
       "0       Bachelor of Science (B.Sc)                     Mathematics   \n",
       "1  Bachelor of Technology (B.Tech)  Computer Science & Engineering   \n",
       "2         Master of Science (M.Sc)               Computer  Science   \n",
       "\n",
       "   Current Year Of Graduation Performance_PG Performance_UG Performance_12  \\\n",
       "0                        2017            NaN            NaN            NaN   \n",
       "1                        2019            NaN      85.50/100    92.20/92.20   \n",
       "2                        2018        7.91/10      70.00/100    64.83/64.83   \n",
       "\n",
       "   Performance_10  \n",
       "0             NaN  \n",
       "1     96.60/96.60  \n",
       "2     77.60/77.60  \n",
       "\n",
       "[3 rows x 24 columns]"
      ]
     },
     "execution_count": 3,
     "metadata": {},
     "output_type": "execute_result"
    }
   ],
   "source": [
    "# View the top rows of the dataset\n",
    "data.head(3)"
   ]
  },
  {
   "cell_type": "code",
   "execution_count": 4,
   "metadata": {},
   "outputs": [
    {
     "data": {
      "text/plain": [
       "(392, 24)"
      ]
     },
     "execution_count": 4,
     "metadata": {},
     "output_type": "execute_result"
    }
   ],
   "source": [
    "# Shape of the data frame\n",
    "data.shape"
   ]
  },
  {
   "cell_type": "markdown",
   "metadata": {},
   "source": [
    "# Data pre-processing"
   ]
  },
  {
   "cell_type": "code",
   "execution_count": 5,
   "metadata": {},
   "outputs": [
    {
     "data": {
      "text/plain": [
       "Bangalore    214\n",
       "Hyderabad     22\n",
       "Banglore      14\n",
       "Chennai       12\n",
       "Pune          10\n",
       "            ... \n",
       "Agartala       1\n",
       "Ernakulam      1\n",
       "Kolhapur       1\n",
       "Vellore        1\n",
       "Meerut         1\n",
       "Name: Current City, Length: 63, dtype: int64"
      ]
     },
     "execution_count": 5,
     "metadata": {},
     "output_type": "execute_result"
    }
   ],
   "source": [
    "data['Current City'].value_counts()"
   ]
  },
  {
   "cell_type": "markdown",
   "metadata": {},
   "source": [
    "### information of data set"
   ]
  },
  {
   "cell_type": "code",
   "execution_count": 6,
   "metadata": {},
   "outputs": [
    {
     "name": "stdout",
     "output_type": "stream",
     "text": [
      "<class 'pandas.core.frame.DataFrame'>\n",
      "RangeIndex: 392 entries, 0 to 391\n",
      "Data columns (total 24 columns):\n",
      "Application_ID                392 non-null object\n",
      "Current City                  392 non-null object\n",
      "Python (out of 3)             392 non-null int64\n",
      "R Programming (out of 3)      392 non-null int64\n",
      "Deep Learning (out of 3)      392 non-null int64\n",
      "PHP (out of 3)                392 non-null int64\n",
      "MySQL (out of 3)              392 non-null int64\n",
      "HTML (out of 3)               392 non-null int64\n",
      "CSS (out of 3)                392 non-null int64\n",
      "JavaScript (out of 3)         392 non-null int64\n",
      "Unnamed: 10                   0 non-null float64\n",
      "AJAX (out of 3)               392 non-null int64\n",
      "Bootstrap (out of 3)          392 non-null int64\n",
      "MongoDB (out of 3)            392 non-null int64\n",
      "Node.js (out of 3)            392 non-null int64\n",
      "ReactJS (out of 3)            392 non-null int64\n",
      "Other skills                  378 non-null object\n",
      "Degree                        380 non-null object\n",
      "Stream                        374 non-null object\n",
      "Current Year Of Graduation    392 non-null int64\n",
      "Performance_PG                103 non-null object\n",
      "Performance_UG                338 non-null object\n",
      "Performance_12                229 non-null object\n",
      "Performance_10                215 non-null object\n",
      "dtypes: float64(1), int64(14), object(9)\n",
      "memory usage: 73.6+ KB\n"
     ]
    }
   ],
   "source": [
    "data.info()"
   ]
  },
  {
   "cell_type": "markdown",
   "metadata": {},
   "source": [
    "### data columns present in data set"
   ]
  },
  {
   "cell_type": "code",
   "execution_count": 7,
   "metadata": {},
   "outputs": [
    {
     "data": {
      "text/plain": [
       "Index(['Application_ID', 'Current City', 'Python (out of 3)',\n",
       "       'R Programming (out of 3)', 'Deep Learning (out of 3)',\n",
       "       'PHP (out of 3)', 'MySQL (out of 3)', 'HTML (out of 3)',\n",
       "       'CSS (out of 3)', 'JavaScript (out of 3)', 'Unnamed: 10',\n",
       "       'AJAX (out of 3)', 'Bootstrap (out of 3)', 'MongoDB (out of 3)',\n",
       "       'Node.js (out of 3)', 'ReactJS (out of 3)', 'Other skills', 'Degree',\n",
       "       'Stream', 'Current Year Of Graduation', 'Performance_PG',\n",
       "       'Performance_UG', 'Performance_12', 'Performance_10'],\n",
       "      dtype='object')"
      ]
     },
     "execution_count": 7,
     "metadata": {},
     "output_type": "execute_result"
    }
   ],
   "source": [
    "data.columns"
   ]
  },
  {
   "cell_type": "code",
   "execution_count": 8,
   "metadata": {},
   "outputs": [],
   "source": [
    "#Renaming the data set columns.\n",
    "data.rename(columns={'Python (out of 3)':'Python','R Programming (out of 3)':'R Programming','Deep Learning (out of 3)':'Deep Learning','PHP (out of 3)':'PHP','MySQL (out of 3)':'MySQL','HTML (out of 3)':'HTML','CSS (out of 3)':'CSS','JavaScript (out of 3)':'JavaScript','Node.js (out of 3)':'Node.js','AJAX (out of 3)':'AJAX','Bootstrap (out of 3)':'Bootstrap','MongoDB (out of 3)':'MongoDB','ReactJS (out of 3)':'ReactJS'},inplace=True)"
   ]
  },
  {
   "cell_type": "code",
   "execution_count": 9,
   "metadata": {},
   "outputs": [
    {
     "data": {
      "text/html": [
       "<div>\n",
       "<style scoped>\n",
       "    .dataframe tbody tr th:only-of-type {\n",
       "        vertical-align: middle;\n",
       "    }\n",
       "\n",
       "    .dataframe tbody tr th {\n",
       "        vertical-align: top;\n",
       "    }\n",
       "\n",
       "    .dataframe thead th {\n",
       "        text-align: right;\n",
       "    }\n",
       "</style>\n",
       "<table border=\"1\" class=\"dataframe\">\n",
       "  <thead>\n",
       "    <tr style=\"text-align: right;\">\n",
       "      <th></th>\n",
       "      <th>Application_ID</th>\n",
       "      <th>Current City</th>\n",
       "      <th>Python</th>\n",
       "      <th>R Programming</th>\n",
       "      <th>Deep Learning</th>\n",
       "      <th>PHP</th>\n",
       "      <th>MySQL</th>\n",
       "      <th>HTML</th>\n",
       "      <th>CSS</th>\n",
       "      <th>JavaScript</th>\n",
       "      <th>...</th>\n",
       "      <th>Node.js</th>\n",
       "      <th>ReactJS</th>\n",
       "      <th>Other skills</th>\n",
       "      <th>Degree</th>\n",
       "      <th>Stream</th>\n",
       "      <th>Current Year Of Graduation</th>\n",
       "      <th>Performance_PG</th>\n",
       "      <th>Performance_UG</th>\n",
       "      <th>Performance_12</th>\n",
       "      <th>Performance_10</th>\n",
       "    </tr>\n",
       "  </thead>\n",
       "  <tbody>\n",
       "    <tr>\n",
       "      <th>0</th>\n",
       "      <td>ML0001</td>\n",
       "      <td>Bangalore</td>\n",
       "      <td>0</td>\n",
       "      <td>2</td>\n",
       "      <td>0</td>\n",
       "      <td>2</td>\n",
       "      <td>0</td>\n",
       "      <td>2</td>\n",
       "      <td>3</td>\n",
       "      <td>2</td>\n",
       "      <td>...</td>\n",
       "      <td>0</td>\n",
       "      <td>0</td>\n",
       "      <td>R Programming</td>\n",
       "      <td>Bachelor of Science (B.Sc)</td>\n",
       "      <td>Mathematics</td>\n",
       "      <td>2017</td>\n",
       "      <td>NaN</td>\n",
       "      <td>NaN</td>\n",
       "      <td>NaN</td>\n",
       "      <td>NaN</td>\n",
       "    </tr>\n",
       "    <tr>\n",
       "      <th>1</th>\n",
       "      <td>ML0002</td>\n",
       "      <td>Bangalore</td>\n",
       "      <td>2</td>\n",
       "      <td>0</td>\n",
       "      <td>0</td>\n",
       "      <td>2</td>\n",
       "      <td>2</td>\n",
       "      <td>2</td>\n",
       "      <td>2</td>\n",
       "      <td>2</td>\n",
       "      <td>...</td>\n",
       "      <td>0</td>\n",
       "      <td>0</td>\n",
       "      <td>Data Science, Machine Learning, Neural Network...</td>\n",
       "      <td>Bachelor of Technology (B.Tech)</td>\n",
       "      <td>Computer Science &amp; Engineering</td>\n",
       "      <td>2019</td>\n",
       "      <td>NaN</td>\n",
       "      <td>85.50/100</td>\n",
       "      <td>92.20/92.20</td>\n",
       "      <td>96.60/96.60</td>\n",
       "    </tr>\n",
       "    <tr>\n",
       "      <th>2</th>\n",
       "      <td>ML0003</td>\n",
       "      <td>Bangalore</td>\n",
       "      <td>3</td>\n",
       "      <td>0</td>\n",
       "      <td>1</td>\n",
       "      <td>2</td>\n",
       "      <td>2</td>\n",
       "      <td>2</td>\n",
       "      <td>0</td>\n",
       "      <td>2</td>\n",
       "      <td>...</td>\n",
       "      <td>0</td>\n",
       "      <td>0</td>\n",
       "      <td>Algorithms, Data Structures, Python, C Program...</td>\n",
       "      <td>Master of Science (M.Sc)</td>\n",
       "      <td>Computer  Science</td>\n",
       "      <td>2018</td>\n",
       "      <td>7.91/10</td>\n",
       "      <td>70.00/100</td>\n",
       "      <td>64.83/64.83</td>\n",
       "      <td>77.60/77.60</td>\n",
       "    </tr>\n",
       "    <tr>\n",
       "      <th>3</th>\n",
       "      <td>ML0004</td>\n",
       "      <td>Bangalore</td>\n",
       "      <td>2</td>\n",
       "      <td>0</td>\n",
       "      <td>2</td>\n",
       "      <td>1</td>\n",
       "      <td>0</td>\n",
       "      <td>2</td>\n",
       "      <td>0</td>\n",
       "      <td>0</td>\n",
       "      <td>...</td>\n",
       "      <td>0</td>\n",
       "      <td>0</td>\n",
       "      <td>CSS, Deep Learning, Embedded Systems, HTML, Ma...</td>\n",
       "      <td>Bachelor of Engineering (B.E)</td>\n",
       "      <td>Electronics and Communication</td>\n",
       "      <td>2019</td>\n",
       "      <td>NaN</td>\n",
       "      <td>6.86/10</td>\n",
       "      <td>76.00/76.00</td>\n",
       "      <td>84.32/84.32</td>\n",
       "    </tr>\n",
       "    <tr>\n",
       "      <th>4</th>\n",
       "      <td>ML0005</td>\n",
       "      <td>Bangalore</td>\n",
       "      <td>2</td>\n",
       "      <td>0</td>\n",
       "      <td>0</td>\n",
       "      <td>2</td>\n",
       "      <td>0</td>\n",
       "      <td>2</td>\n",
       "      <td>1</td>\n",
       "      <td>1</td>\n",
       "      <td>...</td>\n",
       "      <td>2</td>\n",
       "      <td>2</td>\n",
       "      <td>HTML, OpenCV, Python, SQL, C++ Programming, CS...</td>\n",
       "      <td>Bachelor of Technology (B.Tech)</td>\n",
       "      <td>Production Engineering</td>\n",
       "      <td>2018</td>\n",
       "      <td>NaN</td>\n",
       "      <td>6.38/10</td>\n",
       "      <td>65.20/65.20</td>\n",
       "      <td>68.80/68.80</td>\n",
       "    </tr>\n",
       "  </tbody>\n",
       "</table>\n",
       "<p>5 rows × 24 columns</p>\n",
       "</div>"
      ],
      "text/plain": [
       "  Application_ID Current City  Python  R Programming  Deep Learning  PHP  \\\n",
       "0         ML0001    Bangalore       0              2              0    2   \n",
       "1         ML0002    Bangalore       2              0              0    2   \n",
       "2         ML0003    Bangalore       3              0              1    2   \n",
       "3         ML0004    Bangalore       2              0              2    1   \n",
       "4         ML0005    Bangalore       2              0              0    2   \n",
       "\n",
       "   MySQL  HTML  CSS  JavaScript  ...  Node.js  ReactJS  \\\n",
       "0      0     2    3           2  ...        0        0   \n",
       "1      2     2    2           2  ...        0        0   \n",
       "2      2     2    0           2  ...        0        0   \n",
       "3      0     2    0           0  ...        0        0   \n",
       "4      0     2    1           1  ...        2        2   \n",
       "\n",
       "                                        Other skills  \\\n",
       "0                                      R Programming   \n",
       "1  Data Science, Machine Learning, Neural Network...   \n",
       "2  Algorithms, Data Structures, Python, C Program...   \n",
       "3  CSS, Deep Learning, Embedded Systems, HTML, Ma...   \n",
       "4  HTML, OpenCV, Python, SQL, C++ Programming, CS...   \n",
       "\n",
       "                            Degree                          Stream  \\\n",
       "0       Bachelor of Science (B.Sc)                     Mathematics   \n",
       "1  Bachelor of Technology (B.Tech)  Computer Science & Engineering   \n",
       "2         Master of Science (M.Sc)               Computer  Science   \n",
       "3    Bachelor of Engineering (B.E)   Electronics and Communication   \n",
       "4  Bachelor of Technology (B.Tech)          Production Engineering   \n",
       "\n",
       "   Current Year Of Graduation Performance_PG Performance_UG Performance_12  \\\n",
       "0                        2017            NaN            NaN            NaN   \n",
       "1                        2019            NaN      85.50/100    92.20/92.20   \n",
       "2                        2018        7.91/10      70.00/100    64.83/64.83   \n",
       "3                        2019            NaN        6.86/10    76.00/76.00   \n",
       "4                        2018            NaN        6.38/10    65.20/65.20   \n",
       "\n",
       "   Performance_10  \n",
       "0             NaN  \n",
       "1     96.60/96.60  \n",
       "2     77.60/77.60  \n",
       "3     84.32/84.32  \n",
       "4     68.80/68.80  \n",
       "\n",
       "[5 rows x 24 columns]"
      ]
     },
     "execution_count": 9,
     "metadata": {},
     "output_type": "execute_result"
    }
   ],
   "source": [
    "#Data set after the changing the columns\n",
    "data.head()"
   ]
  },
  {
   "cell_type": "code",
   "execution_count": 10,
   "metadata": {},
   "outputs": [
    {
     "data": {
      "text/plain": [
       "Index(['Application_ID', 'Current City', 'Python', 'R Programming',\n",
       "       'Deep Learning', 'PHP', 'MySQL', 'HTML', 'CSS', 'JavaScript',\n",
       "       'Unnamed: 10', 'AJAX', 'Bootstrap', 'MongoDB', 'Node.js', 'ReactJS',\n",
       "       'Other skills', 'Degree', 'Stream', 'Current Year Of Graduation',\n",
       "       'Performance_PG', 'Performance_UG', 'Performance_12', 'Performance_10'],\n",
       "      dtype='object')"
      ]
     },
     "execution_count": 10,
     "metadata": {},
     "output_type": "execute_result"
    }
   ],
   "source": [
    "data.columns"
   ]
  },
  {
   "cell_type": "code",
   "execution_count": 11,
   "metadata": {},
   "outputs": [],
   "source": [
    "#Droping the Unnamed: 10 column.\n",
    "data2=data.drop(['Unnamed: 10'], axis = 1)"
   ]
  },
  {
   "cell_type": "code",
   "execution_count": 12,
   "metadata": {},
   "outputs": [
    {
     "data": {
      "text/plain": [
       "Index(['Application_ID', 'Current City', 'Python', 'R Programming',\n",
       "       'Deep Learning', 'PHP', 'MySQL', 'HTML', 'CSS', 'JavaScript', 'AJAX',\n",
       "       'Bootstrap', 'MongoDB', 'Node.js', 'ReactJS', 'Other skills', 'Degree',\n",
       "       'Stream', 'Current Year Of Graduation', 'Performance_PG',\n",
       "       'Performance_UG', 'Performance_12', 'Performance_10'],\n",
       "      dtype='object')"
      ]
     },
     "execution_count": 12,
     "metadata": {},
     "output_type": "execute_result"
    }
   ],
   "source": [
    "data2.columns"
   ]
  },
  {
   "cell_type": "code",
   "execution_count": 13,
   "metadata": {},
   "outputs": [
    {
     "data": {
      "text/plain": [
       "Application_ID                  0\n",
       "Current City                    0\n",
       "Python                          0\n",
       "R Programming                   0\n",
       "Deep Learning                   0\n",
       "PHP                             0\n",
       "MySQL                           0\n",
       "HTML                            0\n",
       "CSS                             0\n",
       "JavaScript                      0\n",
       "AJAX                            0\n",
       "Bootstrap                       0\n",
       "MongoDB                         0\n",
       "Node.js                         0\n",
       "ReactJS                         0\n",
       "Other skills                   14\n",
       "Degree                         12\n",
       "Stream                         18\n",
       "Current Year Of Graduation      0\n",
       "Performance_PG                289\n",
       "Performance_UG                 54\n",
       "Performance_12                163\n",
       "Performance_10                177\n",
       "dtype: int64"
      ]
     },
     "execution_count": 13,
     "metadata": {},
     "output_type": "execute_result"
    }
   ],
   "source": [
    "#Checking the null values present in the data set\n",
    "data2.isnull().sum()"
   ]
  },
  {
   "cell_type": "markdown",
   "metadata": {},
   "source": [
    "### Replacing null values with 0."
   ]
  },
  {
   "cell_type": "code",
   "execution_count": 14,
   "metadata": {},
   "outputs": [],
   "source": [
    "data2['Other skills'].fillna('0',inplace=True)"
   ]
  },
  {
   "cell_type": "code",
   "execution_count": 15,
   "metadata": {},
   "outputs": [
    {
     "data": {
      "text/plain": [
       "0"
      ]
     },
     "execution_count": 15,
     "metadata": {},
     "output_type": "execute_result"
    }
   ],
   "source": [
    "data2['Other skills'].isnull().sum()"
   ]
  },
  {
   "cell_type": "code",
   "execution_count": 16,
   "metadata": {},
   "outputs": [
    {
     "data": {
      "text/plain": [
       "0"
      ]
     },
     "execution_count": 16,
     "metadata": {},
     "output_type": "execute_result"
    }
   ],
   "source": [
    "data2['Degree'].fillna('0',inplace=True)\n",
    "data2['Degree'].isnull().sum()"
   ]
  },
  {
   "cell_type": "code",
   "execution_count": 17,
   "metadata": {},
   "outputs": [
    {
     "data": {
      "text/plain": [
       "0"
      ]
     },
     "execution_count": 17,
     "metadata": {},
     "output_type": "execute_result"
    }
   ],
   "source": [
    "data2['Stream'].fillna('0',inplace=True)\n",
    "data2['Stream'].isnull().sum()"
   ]
  },
  {
   "cell_type": "code",
   "execution_count": 18,
   "metadata": {},
   "outputs": [
    {
     "data": {
      "text/plain": [
       "0"
      ]
     },
     "execution_count": 18,
     "metadata": {},
     "output_type": "execute_result"
    }
   ],
   "source": [
    "data2['Performance_PG'].fillna('0',inplace=True)\n",
    "data2['Performance_PG'].isnull().sum()"
   ]
  },
  {
   "cell_type": "code",
   "execution_count": 19,
   "metadata": {},
   "outputs": [
    {
     "data": {
      "text/plain": [
       "0"
      ]
     },
     "execution_count": 19,
     "metadata": {},
     "output_type": "execute_result"
    }
   ],
   "source": [
    "data2['Performance_UG'].fillna('0',inplace=True)\n",
    "data2['Performance_UG'].isnull().sum()"
   ]
  },
  {
   "cell_type": "code",
   "execution_count": 20,
   "metadata": {},
   "outputs": [
    {
     "data": {
      "text/plain": [
       "0"
      ]
     },
     "execution_count": 20,
     "metadata": {},
     "output_type": "execute_result"
    }
   ],
   "source": [
    "data2['Performance_12'].fillna('0',inplace=True)\n",
    "data2['Performance_12'].isnull().sum()"
   ]
  },
  {
   "cell_type": "code",
   "execution_count": 21,
   "metadata": {},
   "outputs": [
    {
     "data": {
      "text/plain": [
       "0"
      ]
     },
     "execution_count": 21,
     "metadata": {},
     "output_type": "execute_result"
    }
   ],
   "source": [
    "data2['Performance_10'].fillna('0',inplace=True)\n",
    "data2['Performance_10'].isnull().sum()"
   ]
  },
  {
   "cell_type": "markdown",
   "metadata": {},
   "source": [
    "### Replacing Performance_PG,Performance_UG,Performance_12,Performance_10 to correct values of percentage"
   ]
  },
  {
   "cell_type": "code",
   "execution_count": 22,
   "metadata": {},
   "outputs": [],
   "source": [
    "data2['Performance_PG'] = data2['Performance_PG'].str.replace('/\\d+', '     ')"
   ]
  },
  {
   "cell_type": "code",
   "execution_count": 23,
   "metadata": {},
   "outputs": [],
   "source": [
    "data2['Performance_UG'] = data2['Performance_UG'].str.replace('/\\d+', '     ')"
   ]
  },
  {
   "cell_type": "code",
   "execution_count": 24,
   "metadata": {},
   "outputs": [],
   "source": [
    "data2['Performance_12'] = data2['Performance_12'].str.replace('/\\d+\\d+','     ')\n",
    "#data2['Performance_12'] = data2['Performance_12'].str.replace('.\\d+', ' ')\n"
   ]
  },
  {
   "cell_type": "code",
   "execution_count": 25,
   "metadata": {},
   "outputs": [],
   "source": [
    "data2['Performance_10'] = data2['Performance_10'].str.replace('/\\d+\\d+','     ')"
   ]
  },
  {
   "cell_type": "code",
   "execution_count": 26,
   "metadata": {},
   "outputs": [
    {
     "data": {
      "text/html": [
       "<div>\n",
       "<style scoped>\n",
       "    .dataframe tbody tr th:only-of-type {\n",
       "        vertical-align: middle;\n",
       "    }\n",
       "\n",
       "    .dataframe tbody tr th {\n",
       "        vertical-align: top;\n",
       "    }\n",
       "\n",
       "    .dataframe thead th {\n",
       "        text-align: right;\n",
       "    }\n",
       "</style>\n",
       "<table border=\"1\" class=\"dataframe\">\n",
       "  <thead>\n",
       "    <tr style=\"text-align: right;\">\n",
       "      <th></th>\n",
       "      <th>Application_ID</th>\n",
       "      <th>Current City</th>\n",
       "      <th>Python</th>\n",
       "      <th>R Programming</th>\n",
       "      <th>Deep Learning</th>\n",
       "      <th>PHP</th>\n",
       "      <th>MySQL</th>\n",
       "      <th>HTML</th>\n",
       "      <th>CSS</th>\n",
       "      <th>JavaScript</th>\n",
       "      <th>...</th>\n",
       "      <th>Node.js</th>\n",
       "      <th>ReactJS</th>\n",
       "      <th>Other skills</th>\n",
       "      <th>Degree</th>\n",
       "      <th>Stream</th>\n",
       "      <th>Current Year Of Graduation</th>\n",
       "      <th>Performance_PG</th>\n",
       "      <th>Performance_UG</th>\n",
       "      <th>Performance_12</th>\n",
       "      <th>Performance_10</th>\n",
       "    </tr>\n",
       "  </thead>\n",
       "  <tbody>\n",
       "    <tr>\n",
       "      <th>0</th>\n",
       "      <td>ML0001</td>\n",
       "      <td>Bangalore</td>\n",
       "      <td>0</td>\n",
       "      <td>2</td>\n",
       "      <td>0</td>\n",
       "      <td>2</td>\n",
       "      <td>0</td>\n",
       "      <td>2</td>\n",
       "      <td>3</td>\n",
       "      <td>2</td>\n",
       "      <td>...</td>\n",
       "      <td>0</td>\n",
       "      <td>0</td>\n",
       "      <td>R Programming</td>\n",
       "      <td>Bachelor of Science (B.Sc)</td>\n",
       "      <td>Mathematics</td>\n",
       "      <td>2017</td>\n",
       "      <td>0</td>\n",
       "      <td>0</td>\n",
       "      <td>0</td>\n",
       "      <td>0</td>\n",
       "    </tr>\n",
       "    <tr>\n",
       "      <th>1</th>\n",
       "      <td>ML0002</td>\n",
       "      <td>Bangalore</td>\n",
       "      <td>2</td>\n",
       "      <td>0</td>\n",
       "      <td>0</td>\n",
       "      <td>2</td>\n",
       "      <td>2</td>\n",
       "      <td>2</td>\n",
       "      <td>2</td>\n",
       "      <td>2</td>\n",
       "      <td>...</td>\n",
       "      <td>0</td>\n",
       "      <td>0</td>\n",
       "      <td>Data Science, Machine Learning, Neural Network...</td>\n",
       "      <td>Bachelor of Technology (B.Tech)</td>\n",
       "      <td>Computer Science &amp; Engineering</td>\n",
       "      <td>2019</td>\n",
       "      <td>0</td>\n",
       "      <td>85.50</td>\n",
       "      <td>92.20     .20</td>\n",
       "      <td>96.60     .60</td>\n",
       "    </tr>\n",
       "    <tr>\n",
       "      <th>2</th>\n",
       "      <td>ML0003</td>\n",
       "      <td>Bangalore</td>\n",
       "      <td>3</td>\n",
       "      <td>0</td>\n",
       "      <td>1</td>\n",
       "      <td>2</td>\n",
       "      <td>2</td>\n",
       "      <td>2</td>\n",
       "      <td>0</td>\n",
       "      <td>2</td>\n",
       "      <td>...</td>\n",
       "      <td>0</td>\n",
       "      <td>0</td>\n",
       "      <td>Algorithms, Data Structures, Python, C Program...</td>\n",
       "      <td>Master of Science (M.Sc)</td>\n",
       "      <td>Computer  Science</td>\n",
       "      <td>2018</td>\n",
       "      <td>7.91</td>\n",
       "      <td>70.00</td>\n",
       "      <td>64.83     .83</td>\n",
       "      <td>77.60     .60</td>\n",
       "    </tr>\n",
       "    <tr>\n",
       "      <th>3</th>\n",
       "      <td>ML0004</td>\n",
       "      <td>Bangalore</td>\n",
       "      <td>2</td>\n",
       "      <td>0</td>\n",
       "      <td>2</td>\n",
       "      <td>1</td>\n",
       "      <td>0</td>\n",
       "      <td>2</td>\n",
       "      <td>0</td>\n",
       "      <td>0</td>\n",
       "      <td>...</td>\n",
       "      <td>0</td>\n",
       "      <td>0</td>\n",
       "      <td>CSS, Deep Learning, Embedded Systems, HTML, Ma...</td>\n",
       "      <td>Bachelor of Engineering (B.E)</td>\n",
       "      <td>Electronics and Communication</td>\n",
       "      <td>2019</td>\n",
       "      <td>0</td>\n",
       "      <td>6.86</td>\n",
       "      <td>76.00     .00</td>\n",
       "      <td>84.32     .32</td>\n",
       "    </tr>\n",
       "    <tr>\n",
       "      <th>4</th>\n",
       "      <td>ML0005</td>\n",
       "      <td>Bangalore</td>\n",
       "      <td>2</td>\n",
       "      <td>0</td>\n",
       "      <td>0</td>\n",
       "      <td>2</td>\n",
       "      <td>0</td>\n",
       "      <td>2</td>\n",
       "      <td>1</td>\n",
       "      <td>1</td>\n",
       "      <td>...</td>\n",
       "      <td>2</td>\n",
       "      <td>2</td>\n",
       "      <td>HTML, OpenCV, Python, SQL, C++ Programming, CS...</td>\n",
       "      <td>Bachelor of Technology (B.Tech)</td>\n",
       "      <td>Production Engineering</td>\n",
       "      <td>2018</td>\n",
       "      <td>0</td>\n",
       "      <td>6.38</td>\n",
       "      <td>65.20     .20</td>\n",
       "      <td>68.80     .80</td>\n",
       "    </tr>\n",
       "    <tr>\n",
       "      <th>5</th>\n",
       "      <td>ML0006</td>\n",
       "      <td>Bangalore</td>\n",
       "      <td>2</td>\n",
       "      <td>0</td>\n",
       "      <td>0</td>\n",
       "      <td>1</td>\n",
       "      <td>0</td>\n",
       "      <td>3</td>\n",
       "      <td>2</td>\n",
       "      <td>1</td>\n",
       "      <td>...</td>\n",
       "      <td>0</td>\n",
       "      <td>0</td>\n",
       "      <td>Data Analytics, Machine Learning, MySQL, Python</td>\n",
       "      <td>0</td>\n",
       "      <td>Data Science Engineering</td>\n",
       "      <td>2019</td>\n",
       "      <td>0</td>\n",
       "      <td>70.00</td>\n",
       "      <td>0</td>\n",
       "      <td>0</td>\n",
       "    </tr>\n",
       "    <tr>\n",
       "      <th>6</th>\n",
       "      <td>ML0007</td>\n",
       "      <td>Bangalore</td>\n",
       "      <td>1</td>\n",
       "      <td>0</td>\n",
       "      <td>0</td>\n",
       "      <td>0</td>\n",
       "      <td>0</td>\n",
       "      <td>0</td>\n",
       "      <td>0</td>\n",
       "      <td>0</td>\n",
       "      <td>...</td>\n",
       "      <td>0</td>\n",
       "      <td>0</td>\n",
       "      <td>MS-Word, Python, Robotics</td>\n",
       "      <td>0</td>\n",
       "      <td>Artificial Intelligence</td>\n",
       "      <td>2020</td>\n",
       "      <td>0</td>\n",
       "      <td>80.00</td>\n",
       "      <td>85.00     .00</td>\n",
       "      <td>80.00     .00</td>\n",
       "    </tr>\n",
       "    <tr>\n",
       "      <th>7</th>\n",
       "      <td>ML0008</td>\n",
       "      <td>Mumbai</td>\n",
       "      <td>3</td>\n",
       "      <td>1</td>\n",
       "      <td>0</td>\n",
       "      <td>0</td>\n",
       "      <td>0</td>\n",
       "      <td>2</td>\n",
       "      <td>0</td>\n",
       "      <td>0</td>\n",
       "      <td>...</td>\n",
       "      <td>0</td>\n",
       "      <td>0</td>\n",
       "      <td>Data Analytics, Python, SQL, .NET, ASP.NET, C#...</td>\n",
       "      <td>PG Diploma in Data Science</td>\n",
       "      <td>0</td>\n",
       "      <td>2019</td>\n",
       "      <td>3.61</td>\n",
       "      <td>2.68</td>\n",
       "      <td>0</td>\n",
       "      <td>0</td>\n",
       "    </tr>\n",
       "    <tr>\n",
       "      <th>8</th>\n",
       "      <td>ML0009</td>\n",
       "      <td>Bangalore</td>\n",
       "      <td>3</td>\n",
       "      <td>0</td>\n",
       "      <td>0</td>\n",
       "      <td>0</td>\n",
       "      <td>0</td>\n",
       "      <td>2</td>\n",
       "      <td>2</td>\n",
       "      <td>0</td>\n",
       "      <td>...</td>\n",
       "      <td>0</td>\n",
       "      <td>0</td>\n",
       "      <td>English Proficiency (Spoken), English Proficie...</td>\n",
       "      <td>Post Graduate Programme (PGP)</td>\n",
       "      <td>Data Science</td>\n",
       "      <td>2020</td>\n",
       "      <td>8.00</td>\n",
       "      <td>7.00</td>\n",
       "      <td>70.00     .00</td>\n",
       "      <td>93.00     .00</td>\n",
       "    </tr>\n",
       "    <tr>\n",
       "      <th>9</th>\n",
       "      <td>ML0010</td>\n",
       "      <td>Bangalore</td>\n",
       "      <td>2</td>\n",
       "      <td>0</td>\n",
       "      <td>2</td>\n",
       "      <td>0</td>\n",
       "      <td>0</td>\n",
       "      <td>2</td>\n",
       "      <td>2</td>\n",
       "      <td>2</td>\n",
       "      <td>...</td>\n",
       "      <td>0</td>\n",
       "      <td>2</td>\n",
       "      <td>MS-Office, Computer Vision, Data Analytics, De...</td>\n",
       "      <td>Post Graduate Programme (PGP)</td>\n",
       "      <td>Artificial Intelligence And Machine Learning</td>\n",
       "      <td>2020</td>\n",
       "      <td>71.00</td>\n",
       "      <td>60.00</td>\n",
       "      <td>71.00     .00</td>\n",
       "      <td>0</td>\n",
       "    </tr>\n",
       "  </tbody>\n",
       "</table>\n",
       "<p>10 rows × 23 columns</p>\n",
       "</div>"
      ],
      "text/plain": [
       "  Application_ID Current City  Python  R Programming  Deep Learning  PHP  \\\n",
       "0         ML0001    Bangalore       0              2              0    2   \n",
       "1         ML0002    Bangalore       2              0              0    2   \n",
       "2         ML0003    Bangalore       3              0              1    2   \n",
       "3         ML0004    Bangalore       2              0              2    1   \n",
       "4         ML0005    Bangalore       2              0              0    2   \n",
       "5         ML0006    Bangalore       2              0              0    1   \n",
       "6         ML0007    Bangalore       1              0              0    0   \n",
       "7         ML0008       Mumbai       3              1              0    0   \n",
       "8         ML0009    Bangalore       3              0              0    0   \n",
       "9         ML0010    Bangalore       2              0              2    0   \n",
       "\n",
       "   MySQL  HTML  CSS  JavaScript  ...  Node.js  ReactJS  \\\n",
       "0      0     2    3           2  ...        0        0   \n",
       "1      2     2    2           2  ...        0        0   \n",
       "2      2     2    0           2  ...        0        0   \n",
       "3      0     2    0           0  ...        0        0   \n",
       "4      0     2    1           1  ...        2        2   \n",
       "5      0     3    2           1  ...        0        0   \n",
       "6      0     0    0           0  ...        0        0   \n",
       "7      0     2    0           0  ...        0        0   \n",
       "8      0     2    2           0  ...        0        0   \n",
       "9      0     2    2           2  ...        0        2   \n",
       "\n",
       "                                        Other skills  \\\n",
       "0                                      R Programming   \n",
       "1  Data Science, Machine Learning, Neural Network...   \n",
       "2  Algorithms, Data Structures, Python, C Program...   \n",
       "3  CSS, Deep Learning, Embedded Systems, HTML, Ma...   \n",
       "4  HTML, OpenCV, Python, SQL, C++ Programming, CS...   \n",
       "5    Data Analytics, Machine Learning, MySQL, Python   \n",
       "6                          MS-Word, Python, Robotics   \n",
       "7  Data Analytics, Python, SQL, .NET, ASP.NET, C#...   \n",
       "8  English Proficiency (Spoken), English Proficie...   \n",
       "9  MS-Office, Computer Vision, Data Analytics, De...   \n",
       "\n",
       "                            Degree  \\\n",
       "0       Bachelor of Science (B.Sc)   \n",
       "1  Bachelor of Technology (B.Tech)   \n",
       "2         Master of Science (M.Sc)   \n",
       "3    Bachelor of Engineering (B.E)   \n",
       "4  Bachelor of Technology (B.Tech)   \n",
       "5                                0   \n",
       "6                                0   \n",
       "7       PG Diploma in Data Science   \n",
       "8    Post Graduate Programme (PGP)   \n",
       "9    Post Graduate Programme (PGP)   \n",
       "\n",
       "                                         Stream Current Year Of Graduation  \\\n",
       "0                                   Mathematics                       2017   \n",
       "1                Computer Science & Engineering                       2019   \n",
       "2                             Computer  Science                       2018   \n",
       "3                 Electronics and Communication                       2019   \n",
       "4                        Production Engineering                       2018   \n",
       "5                      Data Science Engineering                       2019   \n",
       "6                       Artificial Intelligence                       2020   \n",
       "7                                             0                       2019   \n",
       "8                                  Data Science                       2020   \n",
       "9  Artificial Intelligence And Machine Learning                       2020   \n",
       "\n",
       "  Performance_PG Performance_UG  Performance_12 Performance_10  \n",
       "0              0              0               0              0  \n",
       "1              0     85.50        92.20     .20  96.60     .60  \n",
       "2      7.91          70.00        64.83     .83  77.60     .60  \n",
       "3              0      6.86        76.00     .00  84.32     .32  \n",
       "4              0      6.38        65.20     .20  68.80     .80  \n",
       "5              0     70.00                    0              0  \n",
       "6              0     80.00        85.00     .00  80.00     .00  \n",
       "7      3.61           2.68                    0              0  \n",
       "8      8.00           7.00        70.00     .00  93.00     .00  \n",
       "9     71.00          60.00        71.00     .00              0  \n",
       "\n",
       "[10 rows x 23 columns]"
      ]
     },
     "execution_count": 26,
     "metadata": {},
     "output_type": "execute_result"
    }
   ],
   "source": [
    "data2.head(10)\n"
   ]
  },
  {
   "cell_type": "code",
   "execution_count": 27,
   "metadata": {},
   "outputs": [
    {
     "data": {
      "text/plain": [
       "0      0.00\n",
       "1      0.00\n",
       "2      7.91\n",
       "3      0.00\n",
       "4      0.00\n",
       "       ... \n",
       "387    0.00\n",
       "388    7.78\n",
       "389    0.00\n",
       "390    0.00\n",
       "391    6.40\n",
       "Name: Performance_PG, Length: 392, dtype: float64"
      ]
     },
     "execution_count": 27,
     "metadata": {},
     "output_type": "execute_result"
    }
   ],
   "source": [
    "#Converting to float.\n",
    "s=pd.Series(data2['Performance_PG'])\n",
    "pd.to_numeric(s)"
   ]
  },
  {
   "cell_type": "code",
   "execution_count": 28,
   "metadata": {},
   "outputs": [
    {
     "data": {
      "text/plain": [
       "0       0.00\n",
       "1      85.50\n",
       "2      70.00\n",
       "3       6.86\n",
       "4       6.38\n",
       "       ...  \n",
       "387    75.00\n",
       "388     6.80\n",
       "389     6.10\n",
       "390     6.50\n",
       "391    63.06\n",
       "Name: Performance_UG, Length: 392, dtype: float64"
      ]
     },
     "execution_count": 28,
     "metadata": {},
     "output_type": "execute_result"
    }
   ],
   "source": [
    "#Converting to float.\n",
    "s=pd.Series(data2['Performance_UG'])\n",
    "pd.to_numeric(s)\n"
   ]
  },
  {
   "cell_type": "code",
   "execution_count": 29,
   "metadata": {
    "scrolled": true
   },
   "outputs": [
    {
     "name": "stdout",
     "output_type": "stream",
     "text": [
      "<class 'pandas.core.frame.DataFrame'>\n",
      "RangeIndex: 392 entries, 0 to 391\n",
      "Data columns (total 23 columns):\n",
      "Application_ID                392 non-null object\n",
      "Current City                  392 non-null object\n",
      "Python                        392 non-null int64\n",
      "R Programming                 392 non-null int64\n",
      "Deep Learning                 392 non-null int64\n",
      "PHP                           392 non-null int64\n",
      "MySQL                         392 non-null int64\n",
      "HTML                          392 non-null int64\n",
      "CSS                           392 non-null int64\n",
      "JavaScript                    392 non-null int64\n",
      "AJAX                          392 non-null int64\n",
      "Bootstrap                     392 non-null int64\n",
      "MongoDB                       392 non-null int64\n",
      "Node.js                       392 non-null int64\n",
      "ReactJS                       392 non-null int64\n",
      "Other skills                  392 non-null object\n",
      "Degree                        392 non-null object\n",
      "Stream                        392 non-null object\n",
      "Current Year Of Graduation    392 non-null int64\n",
      "Performance_PG                392 non-null object\n",
      "Performance_UG                392 non-null object\n",
      "Performance_12                392 non-null object\n",
      "Performance_10                392 non-null object\n",
      "dtypes: int64(14), object(9)\n",
      "memory usage: 70.6+ KB\n"
     ]
    }
   ],
   "source": [
    "data2.info()"
   ]
  },
  {
   "cell_type": "code",
   "execution_count": 30,
   "metadata": {},
   "outputs": [
    {
     "data": {
      "text/plain": [
       "0                                                                                                                                                                               14\n",
       "Android, Java                                                                                                                                                                    4\n",
       "MS-Word, C Programming, CSS, Embedded Systems, HTML, JavaScript, MS-Excel, MS-Office, MS-PowerPoint, ReactJS                                                                     4\n",
       "Data Analytics, Machine Learning, Python                                                                                                                                         4\n",
       "C Programming, CSS, Database Management System (DBMS), HTML, Java, SQL, XML                                                                                                      3\n",
       "                                                                                                                                                                                ..\n",
       "Data Analytics, HTML, MS-Excel, MS-PowerPoint, MS-Word, Database Management System (DBMS), Mathematics, MySQL, PHP, REST API, Software Testing, Python, Statistical Modeling     1\n",
       "R Programming, BIG DATA ANALYTICS, Java, Machine Learning, Python                                                                                                                1\n",
       "BIG DATA ANALYTICS, Data Analytics, Database Management System (DBMS), Machine Learning, MySQL, Natural Language Processing (NLP), Python                                        1\n",
       "MS-Office, Python, Data Science, Machine Learning, SQL                                                                                                                           1\n",
       "Machine Learning, Natural Language Processing (NLP), OpenCV, Python, R Programming, Artifical Intelligence, Deep Learning                                                        1\n",
       "Name: Other skills, Length: 314, dtype: int64"
      ]
     },
     "execution_count": 30,
     "metadata": {},
     "output_type": "execute_result"
    }
   ],
   "source": [
    "#Values of Other skills column.\n",
    "data2['Other skills'].value_counts()"
   ]
  },
  {
   "cell_type": "markdown",
   "metadata": {},
   "source": [
    "## statistical description of data set"
   ]
  },
  {
   "cell_type": "code",
   "execution_count": 31,
   "metadata": {},
   "outputs": [
    {
     "data": {
      "text/html": [
       "<div>\n",
       "<style scoped>\n",
       "    .dataframe tbody tr th:only-of-type {\n",
       "        vertical-align: middle;\n",
       "    }\n",
       "\n",
       "    .dataframe tbody tr th {\n",
       "        vertical-align: top;\n",
       "    }\n",
       "\n",
       "    .dataframe thead th {\n",
       "        text-align: right;\n",
       "    }\n",
       "</style>\n",
       "<table border=\"1\" class=\"dataframe\">\n",
       "  <thead>\n",
       "    <tr style=\"text-align: right;\">\n",
       "      <th></th>\n",
       "      <th>Python</th>\n",
       "      <th>R Programming</th>\n",
       "      <th>Deep Learning</th>\n",
       "      <th>PHP</th>\n",
       "      <th>MySQL</th>\n",
       "      <th>HTML</th>\n",
       "      <th>CSS</th>\n",
       "      <th>JavaScript</th>\n",
       "      <th>AJAX</th>\n",
       "      <th>Bootstrap</th>\n",
       "      <th>MongoDB</th>\n",
       "      <th>Node.js</th>\n",
       "      <th>ReactJS</th>\n",
       "      <th>Current Year Of Graduation</th>\n",
       "    </tr>\n",
       "  </thead>\n",
       "  <tbody>\n",
       "    <tr>\n",
       "      <th>count</th>\n",
       "      <td>392.000000</td>\n",
       "      <td>392.000000</td>\n",
       "      <td>392.000000</td>\n",
       "      <td>392.000000</td>\n",
       "      <td>392.000000</td>\n",
       "      <td>392.000000</td>\n",
       "      <td>392.000000</td>\n",
       "      <td>392.000000</td>\n",
       "      <td>392.000000</td>\n",
       "      <td>392.000000</td>\n",
       "      <td>392.000000</td>\n",
       "      <td>392.000000</td>\n",
       "      <td>392.000000</td>\n",
       "      <td>392.000000</td>\n",
       "    </tr>\n",
       "    <tr>\n",
       "      <th>mean</th>\n",
       "      <td>1.375000</td>\n",
       "      <td>0.566327</td>\n",
       "      <td>0.461735</td>\n",
       "      <td>0.612245</td>\n",
       "      <td>0.403061</td>\n",
       "      <td>1.346939</td>\n",
       "      <td>1.045918</td>\n",
       "      <td>0.770408</td>\n",
       "      <td>0.015306</td>\n",
       "      <td>0.265306</td>\n",
       "      <td>0.035714</td>\n",
       "      <td>0.086735</td>\n",
       "      <td>0.178571</td>\n",
       "      <td>2018.867347</td>\n",
       "    </tr>\n",
       "    <tr>\n",
       "      <th>std</th>\n",
       "      <td>0.975237</td>\n",
       "      <td>0.905052</td>\n",
       "      <td>0.842336</td>\n",
       "      <td>0.911789</td>\n",
       "      <td>0.837602</td>\n",
       "      <td>1.071386</td>\n",
       "      <td>1.022976</td>\n",
       "      <td>0.966626</td>\n",
       "      <td>0.122924</td>\n",
       "      <td>0.715928</td>\n",
       "      <td>0.255377</td>\n",
       "      <td>0.401567</td>\n",
       "      <td>0.499360</td>\n",
       "      <td>2.280296</td>\n",
       "    </tr>\n",
       "    <tr>\n",
       "      <th>min</th>\n",
       "      <td>0.000000</td>\n",
       "      <td>0.000000</td>\n",
       "      <td>0.000000</td>\n",
       "      <td>0.000000</td>\n",
       "      <td>0.000000</td>\n",
       "      <td>0.000000</td>\n",
       "      <td>0.000000</td>\n",
       "      <td>0.000000</td>\n",
       "      <td>0.000000</td>\n",
       "      <td>0.000000</td>\n",
       "      <td>0.000000</td>\n",
       "      <td>0.000000</td>\n",
       "      <td>0.000000</td>\n",
       "      <td>2004.000000</td>\n",
       "    </tr>\n",
       "    <tr>\n",
       "      <th>25%</th>\n",
       "      <td>0.000000</td>\n",
       "      <td>0.000000</td>\n",
       "      <td>0.000000</td>\n",
       "      <td>0.000000</td>\n",
       "      <td>0.000000</td>\n",
       "      <td>0.000000</td>\n",
       "      <td>0.000000</td>\n",
       "      <td>0.000000</td>\n",
       "      <td>0.000000</td>\n",
       "      <td>0.000000</td>\n",
       "      <td>0.000000</td>\n",
       "      <td>0.000000</td>\n",
       "      <td>0.000000</td>\n",
       "      <td>2018.750000</td>\n",
       "    </tr>\n",
       "    <tr>\n",
       "      <th>50%</th>\n",
       "      <td>2.000000</td>\n",
       "      <td>0.000000</td>\n",
       "      <td>0.000000</td>\n",
       "      <td>0.000000</td>\n",
       "      <td>0.000000</td>\n",
       "      <td>2.000000</td>\n",
       "      <td>1.000000</td>\n",
       "      <td>0.000000</td>\n",
       "      <td>0.000000</td>\n",
       "      <td>0.000000</td>\n",
       "      <td>0.000000</td>\n",
       "      <td>0.000000</td>\n",
       "      <td>0.000000</td>\n",
       "      <td>2019.000000</td>\n",
       "    </tr>\n",
       "    <tr>\n",
       "      <th>75%</th>\n",
       "      <td>2.000000</td>\n",
       "      <td>1.000000</td>\n",
       "      <td>1.000000</td>\n",
       "      <td>1.000000</td>\n",
       "      <td>0.000000</td>\n",
       "      <td>2.000000</td>\n",
       "      <td>2.000000</td>\n",
       "      <td>2.000000</td>\n",
       "      <td>0.000000</td>\n",
       "      <td>0.000000</td>\n",
       "      <td>0.000000</td>\n",
       "      <td>0.000000</td>\n",
       "      <td>0.000000</td>\n",
       "      <td>2020.000000</td>\n",
       "    </tr>\n",
       "    <tr>\n",
       "      <th>max</th>\n",
       "      <td>3.000000</td>\n",
       "      <td>3.000000</td>\n",
       "      <td>3.000000</td>\n",
       "      <td>3.000000</td>\n",
       "      <td>3.000000</td>\n",
       "      <td>3.000000</td>\n",
       "      <td>3.000000</td>\n",
       "      <td>3.000000</td>\n",
       "      <td>1.000000</td>\n",
       "      <td>3.000000</td>\n",
       "      <td>2.000000</td>\n",
       "      <td>2.000000</td>\n",
       "      <td>2.000000</td>\n",
       "      <td>2023.000000</td>\n",
       "    </tr>\n",
       "  </tbody>\n",
       "</table>\n",
       "</div>"
      ],
      "text/plain": [
       "           Python  R Programming  Deep Learning         PHP       MySQL  \\\n",
       "count  392.000000     392.000000     392.000000  392.000000  392.000000   \n",
       "mean     1.375000       0.566327       0.461735    0.612245    0.403061   \n",
       "std      0.975237       0.905052       0.842336    0.911789    0.837602   \n",
       "min      0.000000       0.000000       0.000000    0.000000    0.000000   \n",
       "25%      0.000000       0.000000       0.000000    0.000000    0.000000   \n",
       "50%      2.000000       0.000000       0.000000    0.000000    0.000000   \n",
       "75%      2.000000       1.000000       1.000000    1.000000    0.000000   \n",
       "max      3.000000       3.000000       3.000000    3.000000    3.000000   \n",
       "\n",
       "             HTML         CSS  JavaScript        AJAX   Bootstrap     MongoDB  \\\n",
       "count  392.000000  392.000000  392.000000  392.000000  392.000000  392.000000   \n",
       "mean     1.346939    1.045918    0.770408    0.015306    0.265306    0.035714   \n",
       "std      1.071386    1.022976    0.966626    0.122924    0.715928    0.255377   \n",
       "min      0.000000    0.000000    0.000000    0.000000    0.000000    0.000000   \n",
       "25%      0.000000    0.000000    0.000000    0.000000    0.000000    0.000000   \n",
       "50%      2.000000    1.000000    0.000000    0.000000    0.000000    0.000000   \n",
       "75%      2.000000    2.000000    2.000000    0.000000    0.000000    0.000000   \n",
       "max      3.000000    3.000000    3.000000    1.000000    3.000000    2.000000   \n",
       "\n",
       "          Node.js     ReactJS  Current Year Of Graduation  \n",
       "count  392.000000  392.000000                  392.000000  \n",
       "mean     0.086735    0.178571                 2018.867347  \n",
       "std      0.401567    0.499360                    2.280296  \n",
       "min      0.000000    0.000000                 2004.000000  \n",
       "25%      0.000000    0.000000                 2018.750000  \n",
       "50%      0.000000    0.000000                 2019.000000  \n",
       "75%      0.000000    0.000000                 2020.000000  \n",
       "max      2.000000    2.000000                 2023.000000  "
      ]
     },
     "execution_count": 31,
     "metadata": {},
     "output_type": "execute_result"
    }
   ],
   "source": [
    "data2.describe()"
   ]
  },
  {
   "cell_type": "code",
   "execution_count": 32,
   "metadata": {},
   "outputs": [
    {
     "data": {
      "text/plain": [
       "48"
      ]
     },
     "execution_count": 32,
     "metadata": {},
     "output_type": "execute_result"
    }
   ],
   "source": [
    "a=data2['Current Year Of Graduation']>2020\n",
    "a.sum()\n"
   ]
  },
  {
   "cell_type": "code",
   "execution_count": 33,
   "metadata": {},
   "outputs": [
    {
     "data": {
      "text/plain": [
       "2020    138\n",
       "2019    108\n",
       "2021     35\n",
       "2018     29\n",
       "2017     25\n",
       "2016     18\n",
       "2022     11\n",
       "2015      9\n",
       "2014      5\n",
       "2013      4\n",
       "2012      3\n",
       "2023      2\n",
       "2008      2\n",
       "2007      1\n",
       "2006      1\n",
       "2004      1\n",
       "Name: Current Year Of Graduation, dtype: int64"
      ]
     },
     "execution_count": 33,
     "metadata": {},
     "output_type": "execute_result"
    }
   ],
   "source": [
    "data2['Current Year Of Graduation'].value_counts()"
   ]
  },
  {
   "cell_type": "code",
   "execution_count": 34,
   "metadata": {},
   "outputs": [],
   "source": [
    "#replace 2021,2022,2023 to 2020\n",
    "data2.replace({'Current Year Of Graduation': {2021:2020, 2022:2020,2023:2020}},inplace=True)"
   ]
  },
  {
   "cell_type": "code",
   "execution_count": 35,
   "metadata": {},
   "outputs": [
    {
     "data": {
      "text/plain": [
       "0"
      ]
     },
     "execution_count": 35,
     "metadata": {},
     "output_type": "execute_result"
    }
   ],
   "source": [
    "a=data2['Current Year Of Graduation']>2020\n",
    "a.sum()\n"
   ]
  },
  {
   "cell_type": "markdown",
   "metadata": {},
   "source": [
    "# Data visualization"
   ]
  },
  {
   "cell_type": "code",
   "execution_count": 36,
   "metadata": {},
   "outputs": [],
   "source": [
    "import seaborn as sns\n",
    "import matplotlib.pyplot as plt\n",
    "%matplotlib inline\n",
    "import math"
   ]
  },
  {
   "cell_type": "code",
   "execution_count": 37,
   "metadata": {},
   "outputs": [
    {
     "data": {
      "text/plain": [
       "<matplotlib.axes._subplots.AxesSubplot at 0x1b2c454dc8>"
      ]
     },
     "execution_count": 37,
     "metadata": {},
     "output_type": "execute_result"
    },
    {
     "data": {
      "image/png": "[encoded data removed]",
      "text/plain": [
       "<Figure size 432x288 with 1 Axes>"
      ]
     },
     "metadata": {
      "needs_background": "light"
     },
     "output_type": "display_data"
    }
   ],
   "source": [
    "data2.plot.bar()"
   ]
  },
  {
   "cell_type": "code",
   "execution_count": 38,
   "metadata": {},
   "outputs": [
    {
     "data": {
      "text/plain": [
       "<matplotlib.axes._subplots.AxesSubplot at 0x1b2b0b22c8>"
      ]
     },
     "execution_count": 38,
     "metadata": {},
     "output_type": "execute_result"
    },
    {
     "data": {
      "image/png": "[encoded data removed]",
      "text/plain": [
       "<Figure size 2160x576 with 1 Axes>"
      ]
     },
     "metadata": {
      "needs_background": "light"
     },
     "output_type": "display_data"
    }
   ],
   "source": [
    "#Ploating bar graph of Current Year Of Graduation. \n",
    "plt.figure(figsize=(30,8))\n",
    "sns.countplot(x='Current Year Of Graduation',data=data2)"
   ]
  },
  {
   "cell_type": "code",
   "execution_count": 39,
   "metadata": {},
   "outputs": [
    {
     "data": {
      "text/plain": [
       "Text(0.5, 1.0, 'Python Rating')"
      ]
     },
     "execution_count": 39,
     "metadata": {},
     "output_type": "execute_result"
    },
    {
     "data": {
      "image/png": "[encoded data removed]",
      "text/plain": [
       "<Figure size 576x576 with 1 Axes>"
      ]
     },
     "metadata": {
      "needs_background": "light"
     },
     "output_type": "display_data"
    }
   ],
   "source": [
    "#Ploting of Python Rating.\n",
    "plt.figure(figsize=(8,8))\n",
    "sns.countplot(x='Python',data=data2)\n",
    "plt.title('Python Rating')\n"
   ]
  },
  {
   "cell_type": "code",
   "execution_count": 40,
   "metadata": {},
   "outputs": [
    {
     "data": {
      "text/plain": [
       "Text(0.5, 1.0, 'R Programming Rating')"
      ]
     },
     "execution_count": 40,
     "metadata": {},
     "output_type": "execute_result"
    },
    {
     "data": {
      "image/png": "[encoded data removed]",
      "text/plain": [
       "<Figure size 576x576 with 1 Axes>"
      ]
     },
     "metadata": {
      "needs_background": "light"
     },
     "output_type": "display_data"
    }
   ],
   "source": [
    "#Ploting of R Programming Rating.\n",
    "plt.figure(figsize=(8,8))\n",
    "sns.countplot(x='R Programming',data=data2)\n",
    "plt.title('R Programming Rating')"
   ]
  },
  {
   "cell_type": "code",
   "execution_count": 41,
   "metadata": {},
   "outputs": [
    {
     "data": {
      "text/plain": [
       "Text(0.5, 1.0, 'Deep Learning Rating')"
      ]
     },
     "execution_count": 41,
     "metadata": {},
     "output_type": "execute_result"
    },
    {
     "data": {
      "image/png": "[encoded data removed]",
      "text/plain": [
       "<Figure size 360x576 with 1 Axes>"
      ]
     },
     "metadata": {
      "needs_background": "light"
     },
     "output_type": "display_data"
    }
   ],
   "source": [
    "#Ploting of Deep Learning Rating.\n",
    "plt.figure(figsize=(5,8))\n",
    "sns.countplot(x='Deep Learning',data=data2)\n",
    "plt.title('Deep Learning Rating')"
   ]
  },
  {
   "cell_type": "code",
   "execution_count": 42,
   "metadata": {},
   "outputs": [
    {
     "data": {
      "text/plain": [
       "Text(0.5, 1.0, 'PHP Rating')"
      ]
     },
     "execution_count": 42,
     "metadata": {},
     "output_type": "execute_result"
    },
    {
     "data": {
      "image/png": "[encoded data removed]",
      "text/plain": [
       "<Figure size 360x720 with 1 Axes>"
      ]
     },
     "metadata": {
      "needs_background": "light"
     },
     "output_type": "display_data"
    }
   ],
   "source": [
    "#Ploting of PHP Rating. \n",
    "plt.figure(figsize=(5,10))\n",
    "sns.countplot(x='PHP',data=data2)\n",
    "plt.title('PHP Rating')"
   ]
  },
  {
   "cell_type": "code",
   "execution_count": 43,
   "metadata": {},
   "outputs": [
    {
     "data": {
      "text/plain": [
       "Text(0.5, 1.0, 'MySQL Rating')"
      ]
     },
     "execution_count": 43,
     "metadata": {},
     "output_type": "execute_result"
    },
    {
     "data": {
      "image/png": "[encoded data removed]",
      "text/plain": [
       "<Figure size 576x576 with 1 Axes>"
      ]
     },
     "metadata": {
      "needs_background": "light"
     },
     "output_type": "display_data"
    }
   ],
   "source": [
    "#Ploting of MySQL Rating.\n",
    "plt.figure(figsize=(8,8))\n",
    "sns.countplot(x='MySQL',data=data2)\n",
    "plt.title('MySQL Rating')"
   ]
  },
  {
   "cell_type": "code",
   "execution_count": 44,
   "metadata": {},
   "outputs": [
    {
     "data": {
      "text/plain": [
       "Text(0.5, 1.0, 'HTML Rating')"
      ]
     },
     "execution_count": 44,
     "metadata": {},
     "output_type": "execute_result"
    },
    {
     "data": {
      "image/png": "[encoded data removed]",
      "text/plain": [
       "<Figure size 576x576 with 1 Axes>"
      ]
     },
     "metadata": {
      "needs_background": "light"
     },
     "output_type": "display_data"
    }
   ],
   "source": [
    "#Ploting of HTML Rating.\n",
    "plt.figure(figsize=(8,8))\n",
    "sns.countplot(x='HTML',data=data2)\n",
    "plt.title('HTML Rating')"
   ]
  },
  {
   "cell_type": "code",
   "execution_count": 45,
   "metadata": {},
   "outputs": [
    {
     "data": {
      "text/plain": [
       "Text(0.5, 1.0, 'CSS Rating')"
      ]
     },
     "execution_count": 45,
     "metadata": {},
     "output_type": "execute_result"
    },
    {
     "data": {
      "image/png": "[encoded data removed]",
      "text/plain": [
       "<Figure size 360x576 with 1 Axes>"
      ]
     },
     "metadata": {
      "needs_background": "light"
     },
     "output_type": "display_data"
    }
   ],
   "source": [
    "#Ploting of CSS Rating.\n",
    "plt.figure(figsize=(5,8))\n",
    "sns.countplot(x='CSS',data=data2)\n",
    "plt.title('CSS Rating')"
   ]
  },
  {
   "cell_type": "code",
   "execution_count": 46,
   "metadata": {},
   "outputs": [
    {
     "data": {
      "text/plain": [
       "Text(0.5, 1.0, 'JavaScript Rating')"
      ]
     },
     "execution_count": 46,
     "metadata": {},
     "output_type": "execute_result"
    },
    {
     "data": {
      "image/png": "[encoded data removed]",
      "text/plain": [
       "<Figure size 360x576 with 1 Axes>"
      ]
     },
     "metadata": {
      "needs_background": "light"
     },
     "output_type": "display_data"
    }
   ],
   "source": [
    "#Ploting of JavaScript Rating.\n",
    "plt.figure(figsize=(5,8))\n",
    "sns.countplot(x='JavaScript',data=data2)\n",
    "plt.title('JavaScript Rating')"
   ]
  },
  {
   "cell_type": "code",
   "execution_count": 47,
   "metadata": {},
   "outputs": [
    {
     "data": {
      "text/plain": [
       "Text(0.5, 1.0, 'AJAX Rating')"
      ]
     },
     "execution_count": 47,
     "metadata": {},
     "output_type": "execute_result"
    },
    {
     "data": {
      "image/png": "[encoded data removed]",
      "text/plain": [
       "<Figure size 360x576 with 1 Axes>"
      ]
     },
     "metadata": {
      "needs_background": "light"
     },
     "output_type": "display_data"
    }
   ],
   "source": [
    "#Ploting of AJAX Rating.\n",
    "plt.figure(figsize=(5,8))\n",
    "sns.countplot(x='AJAX',data=data2)\n",
    "plt.title('AJAX Rating')"
   ]
  },
  {
   "cell_type": "code",
   "execution_count": 48,
   "metadata": {},
   "outputs": [
    {
     "data": {
      "text/plain": [
       "Text(0.5, 1.0, 'Bootstrap Rating')"
      ]
     },
     "execution_count": 48,
     "metadata": {},
     "output_type": "execute_result"
    },
    {
     "data": {
      "image/png": "[encoded data removed]",
      "text/plain": [
       "<Figure size 360x576 with 1 Axes>"
      ]
     },
     "metadata": {
      "needs_background": "light"
     },
     "output_type": "display_data"
    }
   ],
   "source": [
    "#Ploating of Bootstrap Rating.\n",
    "plt.figure(figsize=(5,8))\n",
    "sns.countplot(x='Bootstrap',data=data2)\n",
    "plt.title('Bootstrap Rating')"
   ]
  },
  {
   "cell_type": "code",
   "execution_count": 49,
   "metadata": {},
   "outputs": [
    {
     "data": {
      "text/plain": [
       "Text(0.5, 1.0, 'MongoDB Rating')"
      ]
     },
     "execution_count": 49,
     "metadata": {},
     "output_type": "execute_result"
    },
    {
     "data": {
      "image/png": "[encoded data removed]",
      "text/plain": [
       "<Figure size 360x360 with 1 Axes>"
      ]
     },
     "metadata": {
      "needs_background": "light"
     },
     "output_type": "display_data"
    }
   ],
   "source": [
    "#Ploting of MongoDB Rating.\n",
    "plt.figure(figsize=(5,5))\n",
    "sns.countplot(x='MongoDB',data=data2)\n",
    "plt.title('MongoDB Rating')"
   ]
  },
  {
   "cell_type": "code",
   "execution_count": 50,
   "metadata": {},
   "outputs": [
    {
     "data": {
      "text/plain": [
       "Text(0.5, 1.0, 'Node.js Rating')"
      ]
     },
     "execution_count": 50,
     "metadata": {},
     "output_type": "execute_result"
    },
    {
     "data": {
      "image/png": "[encoded data removed]",
      "text/plain": [
       "<Figure size 360x360 with 1 Axes>"
      ]
     },
     "metadata": {
      "needs_background": "light"
     },
     "output_type": "display_data"
    }
   ],
   "source": [
    "#Ploting of Node.js Rating.\n",
    "plt.figure(figsize=(5,5))\n",
    "sns.countplot(x='Node.js',data=data2)\n",
    "plt.title('Node.js Rating')"
   ]
  },
  {
   "cell_type": "code",
   "execution_count": 51,
   "metadata": {},
   "outputs": [
    {
     "data": {
      "image/png": "[encoded data removed]",
      "text/plain": [
       "<Figure size 432x288 with 16 Axes>"
      ]
     },
     "metadata": {
      "needs_background": "light"
     },
     "output_type": "display_data"
    }
   ],
   "source": [
    "#Histograph of different language.\n",
    "viz = data2[['Python','R Programming','Deep Learning','PHP','MySQL','HTML','CSS','JavaScript','AJAX','Bootstrap','MongoDB','Node.js','ReactJS','Performance_PG','Performance_UG','Current Year Of Graduation']]\n",
    "viz.hist()\n",
    "plt.show()"
   ]
  },
  {
   "cell_type": "code",
   "execution_count": 52,
   "metadata": {},
   "outputs": [
    {
     "data": {
      "text/plain": [
       "Bachelor of Technology (B.Tech)                          110\n",
       "Bachelor of Engineering (B.E)                             84\n",
       "Master of Computer Applications (MCA)                     70\n",
       "B.Tech (Hons.)                                            25\n",
       "Master of Technology (M.Tech)                             19\n",
       "Master of Science (M.Sc)                                  14\n",
       "0                                                         12\n",
       "Bachelor of Computer Applications (BCA)                   10\n",
       "Post Graduate Programme (PGP)                              8\n",
       "Bachelor of Science (B.Sc)                                 5\n",
       "PG Diploma in Data Science                                 5\n",
       "Integrated M.Sc.                                           5\n",
       "Bachelor of Commerce (B.Com)                               2\n",
       "Integrated B.Tech                                          2\n",
       "Post Graduate Diploma in Management (P.G.D.M.)             2\n",
       "Integrated B.Tech & M.Tech                                 2\n",
       "MBA                                                        2\n",
       "Bachelor of Business Administration (B.B.A.)               1\n",
       "Executive MBA                                              1\n",
       "Integrated B.E & M.Tech                                    1\n",
       "Post Graduate Diploma in Big Data Analytics (PG-DBDA)      1\n",
       "Bachelor of Arts (B.A.) (Hons.)                            1\n",
       "Bachelor of Commerce (B.Com) (Hons.)                       1\n",
       "B.Com. Professional                                        1\n",
       "Integrated M.Tech                                          1\n",
       "Bachelor of Business Management (B.B.M.)                   1\n",
       "Post Graduate Diploma                                      1\n",
       "Post Graduate Program in Business Analytics                1\n",
       "Master of Science (M.Sc) (Hons.)                           1\n",
       "Master of Science (M.S.)                                   1\n",
       "Bachelor of Engineering (B.E) (Hons.)                      1\n",
       "Bachelor of Computer Science (B.C.S.)                      1\n",
       "Name: Degree, dtype: int64"
      ]
     },
     "execution_count": 52,
     "metadata": {},
     "output_type": "execute_result"
    }
   ],
   "source": [
    "data2['Degree'].value_counts()"
   ]
  },
  {
   "cell_type": "code",
   "execution_count": 53,
   "metadata": {},
   "outputs": [
    {
     "data": {
      "text/plain": [
       "Computer  Science                                           64\n",
       "Electronics and Communication                               46\n",
       "Computer Science & Engineering                              45\n",
       "Computer Application                                        35\n",
       "Information Technology                                      20\n",
       "                                                            ..\n",
       "Commerce With Maths                                          1\n",
       "Engineering Design                                           1\n",
       "Computer Science With The Specialization In Data Science     1\n",
       "Remote Sensing And Wireless Sensor                           1\n",
       "Kannur University                                            1\n",
       "Name: Stream, Length: 79, dtype: int64"
      ]
     },
     "execution_count": 53,
     "metadata": {},
     "output_type": "execute_result"
    }
   ],
   "source": [
    "data2['Stream'].value_counts()"
   ]
  },
  {
   "cell_type": "code",
   "execution_count": 54,
   "metadata": {},
   "outputs": [
    {
     "data": {
      "text/plain": [
       "ML0354    1\n",
       "ML0241    1\n",
       "ML0236    1\n",
       "ML0009    1\n",
       "ML0120    1\n",
       "         ..\n",
       "ML0389    1\n",
       "ML0349    1\n",
       "ML0325    1\n",
       "ML0030    1\n",
       "ML0275    1\n",
       "Name: Application_ID, Length: 392, dtype: int64"
      ]
     },
     "execution_count": 54,
     "metadata": {},
     "output_type": "execute_result"
    }
   ],
   "source": [
    "data2['Application_ID'].value_counts()"
   ]
  },
  {
   "cell_type": "markdown",
   "metadata": {},
   "source": [
    "### Required columns for model"
   ]
  },
  {
   "cell_type": "code",
   "execution_count": 55,
   "metadata": {},
   "outputs": [],
   "source": [
    "data2=data2.drop(['Application_ID', 'Current City','Performance_PG','Performance_UG','Performance_12','Performance_10','Other skills','Degree'], axis = 1) "
   ]
  },
  {
   "cell_type": "code",
   "execution_count": 56,
   "metadata": {
    "scrolled": false
   },
   "outputs": [
    {
     "data": {
      "text/html": [
       "<div>\n",
       "<style scoped>\n",
       "    .dataframe tbody tr th:only-of-type {\n",
       "        vertical-align: middle;\n",
       "    }\n",
       "\n",
       "    .dataframe tbody tr th {\n",
       "        vertical-align: top;\n",
       "    }\n",
       "\n",
       "    .dataframe thead th {\n",
       "        text-align: right;\n",
       "    }\n",
       "</style>\n",
       "<table border=\"1\" class=\"dataframe\">\n",
       "  <thead>\n",
       "    <tr style=\"text-align: right;\">\n",
       "      <th></th>\n",
       "      <th>Python</th>\n",
       "      <th>R Programming</th>\n",
       "      <th>Deep Learning</th>\n",
       "      <th>PHP</th>\n",
       "      <th>MySQL</th>\n",
       "      <th>HTML</th>\n",
       "      <th>CSS</th>\n",
       "      <th>JavaScript</th>\n",
       "      <th>AJAX</th>\n",
       "      <th>Bootstrap</th>\n",
       "      <th>MongoDB</th>\n",
       "      <th>Node.js</th>\n",
       "      <th>ReactJS</th>\n",
       "      <th>Stream</th>\n",
       "      <th>Current Year Of Graduation</th>\n",
       "    </tr>\n",
       "  </thead>\n",
       "  <tbody>\n",
       "    <tr>\n",
       "      <th>0</th>\n",
       "      <td>0</td>\n",
       "      <td>2</td>\n",
       "      <td>0</td>\n",
       "      <td>2</td>\n",
       "      <td>0</td>\n",
       "      <td>2</td>\n",
       "      <td>3</td>\n",
       "      <td>2</td>\n",
       "      <td>0</td>\n",
       "      <td>2</td>\n",
       "      <td>0</td>\n",
       "      <td>0</td>\n",
       "      <td>0</td>\n",
       "      <td>Mathematics</td>\n",
       "      <td>2017</td>\n",
       "    </tr>\n",
       "    <tr>\n",
       "      <th>1</th>\n",
       "      <td>2</td>\n",
       "      <td>0</td>\n",
       "      <td>0</td>\n",
       "      <td>2</td>\n",
       "      <td>2</td>\n",
       "      <td>2</td>\n",
       "      <td>2</td>\n",
       "      <td>2</td>\n",
       "      <td>0</td>\n",
       "      <td>0</td>\n",
       "      <td>0</td>\n",
       "      <td>0</td>\n",
       "      <td>0</td>\n",
       "      <td>Computer Science &amp; Engineering</td>\n",
       "      <td>2019</td>\n",
       "    </tr>\n",
       "    <tr>\n",
       "      <th>2</th>\n",
       "      <td>3</td>\n",
       "      <td>0</td>\n",
       "      <td>1</td>\n",
       "      <td>2</td>\n",
       "      <td>2</td>\n",
       "      <td>2</td>\n",
       "      <td>0</td>\n",
       "      <td>2</td>\n",
       "      <td>0</td>\n",
       "      <td>0</td>\n",
       "      <td>0</td>\n",
       "      <td>0</td>\n",
       "      <td>0</td>\n",
       "      <td>Computer  Science</td>\n",
       "      <td>2018</td>\n",
       "    </tr>\n",
       "    <tr>\n",
       "      <th>3</th>\n",
       "      <td>2</td>\n",
       "      <td>0</td>\n",
       "      <td>2</td>\n",
       "      <td>1</td>\n",
       "      <td>0</td>\n",
       "      <td>2</td>\n",
       "      <td>0</td>\n",
       "      <td>0</td>\n",
       "      <td>0</td>\n",
       "      <td>0</td>\n",
       "      <td>0</td>\n",
       "      <td>0</td>\n",
       "      <td>0</td>\n",
       "      <td>Electronics and Communication</td>\n",
       "      <td>2019</td>\n",
       "    </tr>\n",
       "    <tr>\n",
       "      <th>4</th>\n",
       "      <td>2</td>\n",
       "      <td>0</td>\n",
       "      <td>0</td>\n",
       "      <td>2</td>\n",
       "      <td>0</td>\n",
       "      <td>2</td>\n",
       "      <td>1</td>\n",
       "      <td>1</td>\n",
       "      <td>0</td>\n",
       "      <td>0</td>\n",
       "      <td>2</td>\n",
       "      <td>2</td>\n",
       "      <td>2</td>\n",
       "      <td>Production Engineering</td>\n",
       "      <td>2018</td>\n",
       "    </tr>\n",
       "  </tbody>\n",
       "</table>\n",
       "</div>"
      ],
      "text/plain": [
       "   Python  R Programming  Deep Learning  PHP  MySQL  HTML  CSS  JavaScript  \\\n",
       "0       0              2              0    2      0     2    3           2   \n",
       "1       2              0              0    2      2     2    2           2   \n",
       "2       3              0              1    2      2     2    0           2   \n",
       "3       2              0              2    1      0     2    0           0   \n",
       "4       2              0              0    2      0     2    1           1   \n",
       "\n",
       "   AJAX  Bootstrap  MongoDB  Node.js  ReactJS                          Stream  \\\n",
       "0     0          2        0        0        0                     Mathematics   \n",
       "1     0          0        0        0        0  Computer Science & Engineering   \n",
       "2     0          0        0        0        0               Computer  Science   \n",
       "3     0          0        0        0        0   Electronics and Communication   \n",
       "4     0          0        2        2        2          Production Engineering   \n",
       "\n",
       "   Current Year Of Graduation  \n",
       "0                        2017  \n",
       "1                        2019  \n",
       "2                        2018  \n",
       "3                        2019  \n",
       "4                        2018  "
      ]
     },
     "execution_count": 56,
     "metadata": {},
     "output_type": "execute_result"
    }
   ],
   "source": [
    "data2.head()"
   ]
  },
  {
   "cell_type": "code",
   "execution_count": 57,
   "metadata": {},
   "outputs": [],
   "source": [
    "#Feature extration of data set.\n",
    "Feature=viz"
   ]
  },
  {
   "cell_type": "code",
   "execution_count": 58,
   "metadata": {},
   "outputs": [
    {
     "data": {
      "text/html": [
       "<div>\n",
       "<style scoped>\n",
       "    .dataframe tbody tr th:only-of-type {\n",
       "        vertical-align: middle;\n",
       "    }\n",
       "\n",
       "    .dataframe tbody tr th {\n",
       "        vertical-align: top;\n",
       "    }\n",
       "\n",
       "    .dataframe thead th {\n",
       "        text-align: right;\n",
       "    }\n",
       "</style>\n",
       "<table border=\"1\" class=\"dataframe\">\n",
       "  <thead>\n",
       "    <tr style=\"text-align: right;\">\n",
       "      <th></th>\n",
       "      <th>Python</th>\n",
       "      <th>R Programming</th>\n",
       "      <th>Deep Learning</th>\n",
       "      <th>PHP</th>\n",
       "      <th>MySQL</th>\n",
       "      <th>HTML</th>\n",
       "      <th>CSS</th>\n",
       "      <th>JavaScript</th>\n",
       "      <th>AJAX</th>\n",
       "      <th>Bootstrap</th>\n",
       "      <th>MongoDB</th>\n",
       "      <th>Node.js</th>\n",
       "      <th>ReactJS</th>\n",
       "      <th>Performance_PG</th>\n",
       "      <th>Performance_UG</th>\n",
       "      <th>Current Year Of Graduation</th>\n",
       "    </tr>\n",
       "  </thead>\n",
       "  <tbody>\n",
       "    <tr>\n",
       "      <th>0</th>\n",
       "      <td>0</td>\n",
       "      <td>2</td>\n",
       "      <td>0</td>\n",
       "      <td>2</td>\n",
       "      <td>0</td>\n",
       "      <td>2</td>\n",
       "      <td>3</td>\n",
       "      <td>2</td>\n",
       "      <td>0</td>\n",
       "      <td>2</td>\n",
       "      <td>0</td>\n",
       "      <td>0</td>\n",
       "      <td>0</td>\n",
       "      <td>0</td>\n",
       "      <td>0</td>\n",
       "      <td>2017</td>\n",
       "    </tr>\n",
       "    <tr>\n",
       "      <th>1</th>\n",
       "      <td>2</td>\n",
       "      <td>0</td>\n",
       "      <td>0</td>\n",
       "      <td>2</td>\n",
       "      <td>2</td>\n",
       "      <td>2</td>\n",
       "      <td>2</td>\n",
       "      <td>2</td>\n",
       "      <td>0</td>\n",
       "      <td>0</td>\n",
       "      <td>0</td>\n",
       "      <td>0</td>\n",
       "      <td>0</td>\n",
       "      <td>0</td>\n",
       "      <td>85.50</td>\n",
       "      <td>2019</td>\n",
       "    </tr>\n",
       "    <tr>\n",
       "      <th>2</th>\n",
       "      <td>3</td>\n",
       "      <td>0</td>\n",
       "      <td>1</td>\n",
       "      <td>2</td>\n",
       "      <td>2</td>\n",
       "      <td>2</td>\n",
       "      <td>0</td>\n",
       "      <td>2</td>\n",
       "      <td>0</td>\n",
       "      <td>0</td>\n",
       "      <td>0</td>\n",
       "      <td>0</td>\n",
       "      <td>0</td>\n",
       "      <td>7.91</td>\n",
       "      <td>70.00</td>\n",
       "      <td>2018</td>\n",
       "    </tr>\n",
       "    <tr>\n",
       "      <th>3</th>\n",
       "      <td>2</td>\n",
       "      <td>0</td>\n",
       "      <td>2</td>\n",
       "      <td>1</td>\n",
       "      <td>0</td>\n",
       "      <td>2</td>\n",
       "      <td>0</td>\n",
       "      <td>0</td>\n",
       "      <td>0</td>\n",
       "      <td>0</td>\n",
       "      <td>0</td>\n",
       "      <td>0</td>\n",
       "      <td>0</td>\n",
       "      <td>0</td>\n",
       "      <td>6.86</td>\n",
       "      <td>2019</td>\n",
       "    </tr>\n",
       "    <tr>\n",
       "      <th>4</th>\n",
       "      <td>2</td>\n",
       "      <td>0</td>\n",
       "      <td>0</td>\n",
       "      <td>2</td>\n",
       "      <td>0</td>\n",
       "      <td>2</td>\n",
       "      <td>1</td>\n",
       "      <td>1</td>\n",
       "      <td>0</td>\n",
       "      <td>0</td>\n",
       "      <td>2</td>\n",
       "      <td>2</td>\n",
       "      <td>2</td>\n",
       "      <td>0</td>\n",
       "      <td>6.38</td>\n",
       "      <td>2018</td>\n",
       "    </tr>\n",
       "    <tr>\n",
       "      <th>5</th>\n",
       "      <td>2</td>\n",
       "      <td>0</td>\n",
       "      <td>0</td>\n",
       "      <td>1</td>\n",
       "      <td>0</td>\n",
       "      <td>3</td>\n",
       "      <td>2</td>\n",
       "      <td>1</td>\n",
       "      <td>0</td>\n",
       "      <td>0</td>\n",
       "      <td>0</td>\n",
       "      <td>0</td>\n",
       "      <td>0</td>\n",
       "      <td>0</td>\n",
       "      <td>70.00</td>\n",
       "      <td>2019</td>\n",
       "    </tr>\n",
       "  </tbody>\n",
       "</table>\n",
       "</div>"
      ],
      "text/plain": [
       "   Python  R Programming  Deep Learning  PHP  MySQL  HTML  CSS  JavaScript  \\\n",
       "0       0              2              0    2      0     2    3           2   \n",
       "1       2              0              0    2      2     2    2           2   \n",
       "2       3              0              1    2      2     2    0           2   \n",
       "3       2              0              2    1      0     2    0           0   \n",
       "4       2              0              0    2      0     2    1           1   \n",
       "5       2              0              0    1      0     3    2           1   \n",
       "\n",
       "   AJAX  Bootstrap  MongoDB  Node.js  ReactJS Performance_PG Performance_UG  \\\n",
       "0     0          2        0        0        0              0              0   \n",
       "1     0          0        0        0        0              0     85.50        \n",
       "2     0          0        0        0        0      7.91          70.00        \n",
       "3     0          0        0        0        0              0      6.86        \n",
       "4     0          0        2        2        2              0      6.38        \n",
       "5     0          0        0        0        0              0     70.00        \n",
       "\n",
       "   Current Year Of Graduation  \n",
       "0                        2017  \n",
       "1                        2019  \n",
       "2                        2018  \n",
       "3                        2019  \n",
       "4                        2018  \n",
       "5                        2019  "
      ]
     },
     "execution_count": 58,
     "metadata": {},
     "output_type": "execute_result"
    }
   ],
   "source": [
    "viz.head(6)"
   ]
  },
  {
   "cell_type": "code",
   "execution_count": 59,
   "metadata": {},
   "outputs": [
    {
     "data": {
      "text/html": [
       "<div>\n",
       "<style scoped>\n",
       "    .dataframe tbody tr th:only-of-type {\n",
       "        vertical-align: middle;\n",
       "    }\n",
       "\n",
       "    .dataframe tbody tr th {\n",
       "        vertical-align: top;\n",
       "    }\n",
       "\n",
       "    .dataframe thead th {\n",
       "        text-align: right;\n",
       "    }\n",
       "</style>\n",
       "<table border=\"1\" class=\"dataframe\">\n",
       "  <thead>\n",
       "    <tr style=\"text-align: right;\">\n",
       "      <th></th>\n",
       "      <th>Python</th>\n",
       "      <th>R Programming</th>\n",
       "      <th>Deep Learning</th>\n",
       "      <th>PHP</th>\n",
       "      <th>MySQL</th>\n",
       "      <th>HTML</th>\n",
       "      <th>CSS</th>\n",
       "      <th>JavaScript</th>\n",
       "      <th>AJAX</th>\n",
       "      <th>Bootstrap</th>\n",
       "      <th>MongoDB</th>\n",
       "      <th>Node.js</th>\n",
       "      <th>ReactJS</th>\n",
       "      <th>Performance_PG</th>\n",
       "      <th>Performance_UG</th>\n",
       "      <th>Current Year Of Graduation</th>\n",
       "    </tr>\n",
       "  </thead>\n",
       "  <tbody>\n",
       "    <tr>\n",
       "      <th>0</th>\n",
       "      <td>0</td>\n",
       "      <td>2</td>\n",
       "      <td>0</td>\n",
       "      <td>2</td>\n",
       "      <td>0</td>\n",
       "      <td>2</td>\n",
       "      <td>3</td>\n",
       "      <td>2</td>\n",
       "      <td>0</td>\n",
       "      <td>2</td>\n",
       "      <td>0</td>\n",
       "      <td>0</td>\n",
       "      <td>0</td>\n",
       "      <td>0</td>\n",
       "      <td>0</td>\n",
       "      <td>2017</td>\n",
       "    </tr>\n",
       "    <tr>\n",
       "      <th>1</th>\n",
       "      <td>2</td>\n",
       "      <td>0</td>\n",
       "      <td>0</td>\n",
       "      <td>2</td>\n",
       "      <td>2</td>\n",
       "      <td>2</td>\n",
       "      <td>2</td>\n",
       "      <td>2</td>\n",
       "      <td>0</td>\n",
       "      <td>0</td>\n",
       "      <td>0</td>\n",
       "      <td>0</td>\n",
       "      <td>0</td>\n",
       "      <td>0</td>\n",
       "      <td>85.50</td>\n",
       "      <td>2019</td>\n",
       "    </tr>\n",
       "    <tr>\n",
       "      <th>2</th>\n",
       "      <td>3</td>\n",
       "      <td>0</td>\n",
       "      <td>1</td>\n",
       "      <td>2</td>\n",
       "      <td>2</td>\n",
       "      <td>2</td>\n",
       "      <td>0</td>\n",
       "      <td>2</td>\n",
       "      <td>0</td>\n",
       "      <td>0</td>\n",
       "      <td>0</td>\n",
       "      <td>0</td>\n",
       "      <td>0</td>\n",
       "      <td>7.91</td>\n",
       "      <td>70.00</td>\n",
       "      <td>2018</td>\n",
       "    </tr>\n",
       "    <tr>\n",
       "      <th>3</th>\n",
       "      <td>2</td>\n",
       "      <td>0</td>\n",
       "      <td>2</td>\n",
       "      <td>1</td>\n",
       "      <td>0</td>\n",
       "      <td>2</td>\n",
       "      <td>0</td>\n",
       "      <td>0</td>\n",
       "      <td>0</td>\n",
       "      <td>0</td>\n",
       "      <td>0</td>\n",
       "      <td>0</td>\n",
       "      <td>0</td>\n",
       "      <td>0</td>\n",
       "      <td>6.86</td>\n",
       "      <td>2019</td>\n",
       "    </tr>\n",
       "    <tr>\n",
       "      <th>4</th>\n",
       "      <td>2</td>\n",
       "      <td>0</td>\n",
       "      <td>0</td>\n",
       "      <td>2</td>\n",
       "      <td>0</td>\n",
       "      <td>2</td>\n",
       "      <td>1</td>\n",
       "      <td>1</td>\n",
       "      <td>0</td>\n",
       "      <td>0</td>\n",
       "      <td>2</td>\n",
       "      <td>2</td>\n",
       "      <td>2</td>\n",
       "      <td>0</td>\n",
       "      <td>6.38</td>\n",
       "      <td>2018</td>\n",
       "    </tr>\n",
       "  </tbody>\n",
       "</table>\n",
       "</div>"
      ],
      "text/plain": [
       "   Python  R Programming  Deep Learning  PHP  MySQL  HTML  CSS  JavaScript  \\\n",
       "0       0              2              0    2      0     2    3           2   \n",
       "1       2              0              0    2      2     2    2           2   \n",
       "2       3              0              1    2      2     2    0           2   \n",
       "3       2              0              2    1      0     2    0           0   \n",
       "4       2              0              0    2      0     2    1           1   \n",
       "\n",
       "   AJAX  Bootstrap  MongoDB  Node.js  ReactJS Performance_PG Performance_UG  \\\n",
       "0     0          2        0        0        0              0              0   \n",
       "1     0          0        0        0        0              0     85.50        \n",
       "2     0          0        0        0        0      7.91          70.00        \n",
       "3     0          0        0        0        0              0      6.86        \n",
       "4     0          0        2        2        2              0      6.38        \n",
       "\n",
       "   Current Year Of Graduation  \n",
       "0                        2017  \n",
       "1                        2019  \n",
       "2                        2018  \n",
       "3                        2019  \n",
       "4                        2018  "
      ]
     },
     "execution_count": 59,
     "metadata": {},
     "output_type": "execute_result"
    }
   ],
   "source": [
    "X = Feature\n",
    "X[0:5]"
   ]
  },
  {
   "cell_type": "code",
   "execution_count": 60,
   "metadata": {},
   "outputs": [
    {
     "data": {
      "text/plain": [
       "array(['Mathematics', 'Computer Science & Engineering',\n",
       "       'Computer  Science', 'Electronics and Communication',\n",
       "       'Production Engineering'], dtype=object)"
      ]
     },
     "execution_count": 60,
     "metadata": {},
     "output_type": "execute_result"
    }
   ],
   "source": [
    "y = data2['Stream'].values\n",
    "y[0:5]"
   ]
  },
  {
   "cell_type": "markdown",
   "metadata": {},
   "source": [
    "### Preprocessing of data and Normalize Data."
   ]
  },
  {
   "cell_type": "code",
   "execution_count": 61,
   "metadata": {},
   "outputs": [
    {
     "data": {
      "text/plain": [
       "array([[-1.41171569,  1.58610311, -0.54886046,  1.523959  , -0.48182377,\n",
       "         0.61032704,  1.91263458,  1.27367121, -0.12467575,  2.42609708,\n",
       "        -0.14002801, -0.21626678, -0.35805744, -0.36908617, -0.99740645,\n",
       "        -0.80015738],\n",
       "       [ 0.64168895, -0.62653895, -0.54886046,  1.523959  ,  1.90899799,\n",
       "         0.61032704,  0.93384508,  1.27367121, -0.12467575, -0.37105014,\n",
       "        -0.14002801, -0.21626678, -0.35805744, -0.36908617,  1.7448732 ,\n",
       "         0.13754574],\n",
       "       [ 1.66839126, -0.62653895,  0.63983181,  1.523959  ,  1.90899799,\n",
       "         0.61032704, -1.02373391,  1.27367121, -0.12467575, -0.37105014,\n",
       "        -0.14002801, -0.21626678, -0.35805744,  0.05894562,  1.24773479,\n",
       "        -0.33130582],\n",
       "       [ 0.64168895, -0.62653895,  1.82852407,  0.42581207, -0.48182377,\n",
       "         0.61032704, -1.02373391, -0.79802636, -0.12467575, -0.37105014,\n",
       "        -0.14002801, -0.21626678, -0.35805744, -0.36908617, -0.77738261,\n",
       "         0.13754574],\n",
       "       [ 0.64168895, -0.62653895, -0.54886046,  1.523959  , -0.48182377,\n",
       "         0.61032704, -0.04494442,  0.23782243, -0.12467575, -0.37105014,\n",
       "         7.70154046,  4.77059084,  3.65218586, -0.36908617, -0.79277786,\n",
       "        -0.33130582]])"
      ]
     },
     "execution_count": 61,
     "metadata": {},
     "output_type": "execute_result"
    }
   ],
   "source": [
    "from sklearn.preprocessing import StandardScaler\n",
    "from sklearn import preprocessing\n",
    "X= preprocessing.StandardScaler().fit(X).transform(X)\n",
    "X[0:5]"
   ]
  },
  {
   "cell_type": "markdown",
   "metadata": {},
   "source": [
    "### splitting the data into train and test set"
   ]
  },
  {
   "cell_type": "code",
   "execution_count": 62,
   "metadata": {},
   "outputs": [
    {
     "name": "stdout",
     "output_type": "stream",
     "text": [
      "The shape of the features train set: (274, 16) , the shape of the target train set: (274,)\n",
      "The shape of the feature test set: (118, 16) , the shape of the target test set: (118,)\n"
     ]
    }
   ],
   "source": [
    "# Import the library for splitting the data into train and test set\n",
    "from sklearn.model_selection import train_test_split\n",
    "\n",
    "X_train, X_test, y_train, y_test = train_test_split( X, y, test_size=0.3, random_state=0)\n",
    "\n",
    "print ('The shape of the features train set:', X_train.shape,', the shape of the target train set:' ,y_train.shape)\n",
    "print ('The shape of the feature test set:', X_test.shape,', the shape of the target test set:',y_test.shape)"
   ]
  },
  {
   "cell_type": "markdown",
   "metadata": {},
   "source": [
    "### Classification\n",
    "### Now, it is your turn, use the training set to build an accurate model. Then use the test set to report the accuracy of the model You should use the following algorithm:\n",
    "\n",
    "### K Nearest Neighbor(KNN)\n",
    "### Decision Tree\n",
    "### Support Vector Machine\n",
    "\n",
    "\n",
    "# K Nearest Neighbor(KNN)"
   ]
  },
  {
   "cell_type": "code",
   "execution_count": 63,
   "metadata": {},
   "outputs": [
    {
     "data": {
      "text/plain": [
       "array([0.24576271, 0.18644068, 0.16949153, 0.15254237, 0.16949153,\n",
       "       0.18644068, 0.19491525, 0.16949153, 0.16949153, 0.18644068,\n",
       "       0.19491525])"
      ]
     },
     "execution_count": 63,
     "metadata": {},
     "output_type": "execute_result"
    }
   ],
   "source": [
    "# Importing the KNN model\n",
    "from sklearn.neighbors import KNeighborsClassifier\n",
    "\n",
    "# Importing the metrics\n",
    "from sklearn import metrics\n",
    "\n",
    "Ks = 12\n",
    "mean_acc = np.zeros((Ks-1))\n",
    "std_acc = np.zeros((Ks-1))\n",
    "ConfustionMx = [];\n",
    "for n in range(1,Ks):\n",
    "    \n",
    "    #Train Model and Predict  \n",
    "    neigh = KNeighborsClassifier(n_neighbors = n).fit(X_train,y_train)\n",
    "    yhat=neigh.predict(X_test)\n",
    "    mean_acc[n-1] = metrics.accuracy_score(y_test, yhat)\n",
    "\n",
    "    \n",
    "    std_acc[n-1]=np.std(yhat==y_test)/np.sqrt(yhat.shape[0])\n",
    "\n",
    "mean_acc"
   ]
  },
  {
   "cell_type": "code",
   "execution_count": 64,
   "metadata": {},
   "outputs": [
    {
     "data": {
      "image/png": "[encoded data removed]",
      "text/plain": [
       "<Figure size 432x288 with 1 Axes>"
      ]
     },
     "metadata": {
      "needs_background": "light"
     },
     "output_type": "display_data"
    }
   ],
   "source": [
    "plt.plot(range(1,Ks),mean_acc,'g')\n",
    "plt.fill_between(range(1,Ks),mean_acc - 1 * std_acc,mean_acc + 1 * std_acc, alpha=0.10)\n",
    "plt.legend(('Accuracy ', '+/- 3xstd'))\n",
    "plt.ylabel('Accuracy ')\n",
    "plt.xlabel('Number of Neighbors (K)')\n",
    "plt.tight_layout()\n",
    "plt.show()"
   ]
  },
  {
   "cell_type": "code",
   "execution_count": 65,
   "metadata": {},
   "outputs": [
    {
     "name": "stdout",
     "output_type": "stream",
     "text": [
      "The best accuracy was with 0.2457627118644068 with k= 1\n"
     ]
    }
   ],
   "source": [
    "print( \"The best accuracy was with\", mean_acc.max(), \"with k=\", mean_acc.argmax()+1)\n",
    "\n"
   ]
  },
  {
   "cell_type": "markdown",
   "metadata": {},
   "source": [
    "### Build the KNN Model with k=1"
   ]
  },
  {
   "cell_type": "code",
   "execution_count": 66,
   "metadata": {},
   "outputs": [
    {
     "data": {
      "text/plain": [
       "KNeighborsClassifier(algorithm='auto', leaf_size=30, metric='minkowski',\n",
       "                     metric_params=None, n_jobs=None, n_neighbors=1, p=2,\n",
       "                     weights='uniform')"
      ]
     },
     "execution_count": 66,
     "metadata": {},
     "output_type": "execute_result"
    }
   ],
   "source": [
    "# Set value of k as 1\n",
    "k = 1\n",
    "# Train Model and Predict  \n",
    "loanknn = KNeighborsClassifier(n_neighbors = k).fit(X_train,y_train)\n",
    "loanknn"
   ]
  },
  {
   "cell_type": "code",
   "execution_count": 67,
   "metadata": {},
   "outputs": [
    {
     "data": {
      "text/plain": [
       "array(['cs', 'Motel Management', 'Computer Science & Engineering',\n",
       "       'Computer Application', 'Electronics and Communication'],\n",
       "      dtype=object)"
      ]
     },
     "execution_count": 67,
     "metadata": {},
     "output_type": "execute_result"
    }
   ],
   "source": [
    "yhat=loanknn.predict(X_test)\n",
    "yhat[0:5]"
   ]
  },
  {
   "cell_type": "markdown",
   "metadata": {},
   "source": [
    "### Calculating the train and test accuracy"
   ]
  },
  {
   "cell_type": "code",
   "execution_count": 68,
   "metadata": {},
   "outputs": [
    {
     "name": "stdout",
     "output_type": "stream",
     "text": [
      "Train set Accuracy:  1.0\n",
      "Test set Accuracy:  0.2457627118644068\n"
     ]
    }
   ],
   "source": [
    "print(\"Train set Accuracy: \", metrics.accuracy_score(y_train, loanknn.predict(X_train)))\n",
    "print(\"Test set Accuracy: \", metrics.accuracy_score(y_test, yhat))"
   ]
  },
  {
   "cell_type": "markdown",
   "metadata": {},
   "source": [
    "### Building the confusion matrix"
   ]
  },
  {
   "cell_type": "code",
   "execution_count": 69,
   "metadata": {},
   "outputs": [
    {
     "name": "stdout",
     "output_type": "stream",
     "text": [
      "                                                     precision    recall  f1-score   support\n",
      "\n",
      "                                                  0       0.00      0.00      0.00         7\n",
      "                              Aerospace Engineering       0.00      0.00      0.00         0\n",
      "                            Artificial Intelligence       0.00      0.00      0.00         2\n",
      "                                      Biotechnology       0.00      0.00      0.00         1\n",
      "                                 Business Analytics       0.00      0.00      0.00         2\n",
      "       Business Analytics And Business Intelligence       0.00      0.00      0.00         0\n",
      "                                  Civil Engineering       0.00      0.00      0.00         2\n",
      "                             Computer  Applications       0.00      0.00      0.00         1\n",
      "                                  Computer  Science       0.35      0.43      0.39        14\n",
      "               Computer & Communication Engineering       0.00      0.00      0.00         0\n",
      "                               Computer Application       0.44      0.70      0.54        10\n",
      "                          Computer Network And Engg       0.00      0.00      0.00         1\n",
      "                     Computer Science & Engineering       0.31      0.29      0.30        14\n",
      "                   Computer Science And Application       0.00      0.00      0.00         0\n",
      "                   Computer Science And Mathematics       0.00      0.00      0.00         1\n",
      "                    Computer Science AndEngineering       0.00      0.00      0.00         0\n",
      "                                Computer Technology       0.00      0.00      0.00         0\n",
      "                                          Core JAVA       0.00      0.00      0.00         2\n",
      "                                     Data Analytics       0.00      0.00      0.00         3\n",
      "                                       Data Science       0.00      0.00      0.00         6\n",
      "                       Data Science And Engineering       0.00      0.00      0.00         1\n",
      "                           Data Science Engineering       0.00      0.00      0.00         1\n",
      "             Data Science, Data Analytics, Big Data       0.00      0.00      0.00         1\n",
      "                            E Learning Technologies       0.00      0.00      0.00         1\n",
      "                                          Economics       0.00      0.00      0.00         1\n",
      "             Electrical and Electronics Engineering       0.00      0.00      0.00         1\n",
      "                      Electronics and Communication       0.42      0.29      0.34        17\n",
      "                    Electronics and Instrumentation       0.00      0.00      0.00         0\n",
      "Electronics and Telecommunication Engineering (ETE)       0.50      0.50      0.50         2\n",
      "                                Engineering Physics       0.00      0.00      0.00         0\n",
      "                                            Finance       0.00      0.00      0.00         1\n",
      "                                                 IT       0.25      1.00      0.40         1\n",
      "                                Information Science       0.00      0.00      0.00         2\n",
      "                                Information Systems       0.00      0.00      0.00         1\n",
      "                             Information Technology       0.00      0.00      0.00         2\n",
      "                      Instrumentation & Electronics       0.00      0.00      0.00         1\n",
      "            Instrumentation and Control Engineering       0.00      0.00      0.00         1\n",
      "                                  Kannur University       0.00      0.00      0.00         0\n",
      "                                                MCA       1.00      0.25      0.40         4\n",
      "                                          Marketing       0.00      0.00      0.00         1\n",
      "                                        Mathematics       0.00      0.00      0.00         0\n",
      "                             Mechanical Engineering       0.17      0.20      0.18         5\n",
      "                                   Motel Management       0.00      0.00      0.00         0\n",
      "                 Remote Sensing And Wireless Sensor       0.00      0.00      0.00         0\n",
      "                                            Science       0.00      0.00      0.00         1\n",
      "                               Software Engineering       0.00      0.00      0.00         0\n",
      "                                         Statistics       0.00      0.00      0.00         2\n",
      "                                         Technology       0.00      0.00      0.00         1\n",
      "                                   computer science       0.60      0.75      0.67         4\n",
      "                                                 cs       0.00      0.00      0.00         0\n",
      "\n",
      "                                           accuracy                           0.25       118\n",
      "                                          macro avg       0.08      0.09      0.07       118\n",
      "                                       weighted avg       0.25      0.25      0.23       118\n",
      "\n"
     ]
    },
    {
     "name": "stderr",
     "output_type": "stream",
     "text": [
      "C:\\Users\\Vijay Reddy\\Anaconda3\\lib\\site-packages\\sklearn\\metrics\\_classification.py:1272: UndefinedMetricWarning: Precision and F-score are ill-defined and being set to 0.0 in labels with no predicted samples. Use `zero_division` parameter to control this behavior.\n",
      "  _warn_prf(average, modifier, msg_start, len(result))\n",
      "C:\\Users\\Vijay Reddy\\Anaconda3\\lib\\site-packages\\sklearn\\metrics\\_classification.py:1272: UndefinedMetricWarning: Recall and F-score are ill-defined and being set to 0.0 in labels with no true samples. Use `zero_division` parameter to control this behavior.\n",
      "  _warn_prf(average, modifier, msg_start, len(result))\n"
     ]
    }
   ],
   "source": [
    "from sklearn.metrics import classification_report\n",
    "\n",
    "print (classification_report(y_test, yhat))"
   ]
  },
  {
   "cell_type": "code",
   "execution_count": 70,
   "metadata": {},
   "outputs": [
    {
     "data": {
      "text/plain": [
       "0.2321181772266782"
      ]
     },
     "execution_count": 70,
     "metadata": {},
     "output_type": "execute_result"
    }
   ],
   "source": [
    "from sklearn.metrics import f1_score\n",
    "f1_score(y_test, yhat, average='weighted')"
   ]
  },
  {
   "cell_type": "code",
   "execution_count": 71,
   "metadata": {},
   "outputs": [
    {
     "name": "stderr",
     "output_type": "stream",
     "text": [
      "C:\\Users\\Vijay Reddy\\Anaconda3\\lib\\site-packages\\sklearn\\metrics\\_classification.py:664: FutureWarning: jaccard_similarity_score has been deprecated and replaced with jaccard_score. It will be removed in version 0.23. This implementation has surprising behavior for binary and multiclass classification tasks.\n",
      "  FutureWarning)\n"
     ]
    },
    {
     "data": {
      "text/plain": [
       "0.2457627118644068"
      ]
     },
     "execution_count": 71,
     "metadata": {},
     "output_type": "execute_result"
    }
   ],
   "source": [
    "from sklearn.metrics import jaccard_similarity_score\n",
    "jaccard_similarity_score(y_test, yhat)"
   ]
  },
  {
   "cell_type": "markdown",
   "metadata": {},
   "source": [
    "### Decision Tree\n",
    "### Train the model with different max depth ranging from 1 to 25"
   ]
  },
  {
   "cell_type": "code",
   "execution_count": 72,
   "metadata": {},
   "outputs": [
    {
     "data": {
      "text/plain": [
       "array([0.11864407, 0.20338983, 0.18644068, 0.16949153, 0.16949153,\n",
       "       0.22881356, 0.27966102, 0.23728814, 0.23728814, 0.22033898,\n",
       "       0.23728814, 0.23728814, 0.24576271, 0.22033898, 0.22033898,\n",
       "       0.22881356, 0.21186441, 0.23728814, 0.22033898, 0.24576271,\n",
       "       0.22881356, 0.24576271, 0.24576271, 0.25423729])"
      ]
     },
     "execution_count": 72,
     "metadata": {},
     "output_type": "execute_result"
    }
   ],
   "source": [
    "# Import the decision tree model\n",
    "\n",
    "from sklearn.tree import DecisionTreeClassifier\n",
    "\n",
    "md=25\n",
    "mean_acc = np.zeros((md-1))\n",
    "std_acc = np.zeros((md-1))\n",
    "ConfustionMx = [];\n",
    "for n in range(1,md):\n",
    "    \n",
    "    #Train Model and Predict  \n",
    "    loant = DecisionTreeClassifier(criterion=\"entropy\", max_depth = n).fit(X_train,y_train)\n",
    "    yhat=loant.predict(X_test)\n",
    "    mean_acc[n-1] = metrics.accuracy_score(y_test, yhat)\n",
    "\n",
    "    \n",
    "    std_acc[n-1]=np.std(yhat==y_test)/np.sqrt(yhat.shape[0])\n",
    "\n",
    "mean_acc"
   ]
  },
  {
   "cell_type": "markdown",
   "metadata": {},
   "source": [
    "### Plot model accuracy for different number of max depth"
   ]
  },
  {
   "cell_type": "code",
   "execution_count": 73,
   "metadata": {},
   "outputs": [
    {
     "data": {
      "image/png": "[encoded data removed]",
      "text/plain": [
       "<Figure size 432x288 with 1 Axes>"
      ]
     },
     "metadata": {
      "needs_background": "light"
     },
     "output_type": "display_data"
    }
   ],
   "source": [
    "plt.plot(range(1,md),mean_acc,'r')\n",
    "plt.fill_between(range(1,md),mean_acc - 1 * std_acc,mean_acc + 1 * std_acc, alpha=0.10)\n",
    "plt.legend(('Accuracy ', '+/- 3xstd'))\n",
    "plt.ylabel('Accuracy ')\n",
    "plt.xlabel('Number of Max Depth')\n",
    "plt.tight_layout()\n",
    "plt.show()"
   ]
  },
  {
   "cell_type": "markdown",
   "metadata": {},
   "source": [
    "### Building the decision tree with max depth of 7"
   ]
  },
  {
   "cell_type": "code",
   "execution_count": 74,
   "metadata": {},
   "outputs": [],
   "source": [
    "loandt = DecisionTreeClassifier(criterion=\"entropy\", max_depth = 7)\n",
    "\n",
    "# Check the default parameters\n",
    "loandt \n",
    "\n",
    "# Train the Decision tree model\n",
    "loandt.fit(X_train,y_train)\n",
    "\n",
    "# Predict using the model\n",
    "yhat= loandt.predict(X_test)"
   ]
  },
  {
   "cell_type": "code",
   "execution_count": 75,
   "metadata": {},
   "outputs": [
    {
     "name": "stdout",
     "output_type": "stream",
     "text": [
      "Train set Accuracy:  0.7007299270072993\n",
      "Test set Accuracy:  0.2711864406779661\n"
     ]
    }
   ],
   "source": [
    "#Calculating the train and test accuracy\n",
    "print(\"Train set Accuracy: \", metrics.accuracy_score(y_train, loandt.predict(X_train)))\n",
    "print(\"Test set Accuracy: \", metrics.accuracy_score(y_test, yhat))"
   ]
  },
  {
   "cell_type": "markdown",
   "metadata": {},
   "source": [
    "### Support Vector Machine\n",
    "### Using the 4 different kernels ffor the SVM classifier to identify the best kernel."
   ]
  },
  {
   "cell_type": "code",
   "execution_count": 76,
   "metadata": {},
   "outputs": [
    {
     "name": "stdout",
     "output_type": "stream",
     "text": [
      "0.17796610169491525 0.17796610169491525 0.15254237288135594 0.16101694915254236\n"
     ]
    }
   ],
   "source": [
    "# Import the library for SVM Classifier\n",
    "from sklearn import svm\n",
    "\n",
    "# Build a SVM Classifier with a Radial base Function Kernel\n",
    "loansvm1 = svm.SVC(kernel='rbf').fit(X_train, y_train)\n",
    "yhat1 = loansvm1.predict(X_test)\n",
    "svm_r = metrics.accuracy_score(y_test, yhat1)\n",
    "\n",
    "# Build a SVM Classifier with a Linear Kernel\n",
    "loansvm2 = svm.SVC(kernel='linear').fit(X_train, y_train)\n",
    "yhat2 = loansvm2.predict(X_test)\n",
    "svm_l = metrics.accuracy_score(y_test, yhat2)\n",
    "    \n",
    "# Build a SVM Classifier with a Polynomial Kernel\n",
    "loansvm3 = svm.SVC(kernel='poly').fit(X_train, y_train)\n",
    "yhat3 = loansvm3.predict(X_test)\n",
    "svm_p = metrics.accuracy_score(y_test, yhat3)\n",
    "\n",
    "# Build a SVM Classifier with a Sigmoid Kernel\n",
    "loansvm4 = svm.SVC(kernel='sigmoid').fit(X_train, y_train)\n",
    "yhat4 = loansvm4.predict(X_test)\n",
    "svm_s = metrics.accuracy_score(y_test, yhat4)\n",
    "    \n",
    "print(svm_r,svm_l,svm_p,svm_s)"
   ]
  },
  {
   "cell_type": "markdown",
   "metadata": {},
   "source": [
    "# k-means  cluster model for unstructure data"
   ]
  },
  {
   "cell_type": "markdown",
   "metadata": {},
   "source": [
    "### Scattered data set visualizion."
   ]
  },
  {
   "cell_type": "code",
   "execution_count": 77,
   "metadata": {},
   "outputs": [
    {
     "name": "stderr",
     "output_type": "stream",
     "text": [
      "C:\\Users\\Vijay Reddy\\Anaconda3\\lib\\site-packages\\sklearn\\utils\\deprecation.py:144: FutureWarning: The sklearn.datasets.samples_generator module is  deprecated in version 0.22 and will be removed in version 0.24. The corresponding classes / functions should instead be imported from sklearn.datasets. Anything that cannot be imported from sklearn.datasets is now part of the private API.\n",
      "  warnings.warn(message, FutureWarning)\n"
     ]
    },
    {
     "data": {
      "image/png": "[encoded data removed]",
      "text/plain": [
       "<Figure size 432x288 with 1 Axes>"
      ]
     },
     "metadata": {
      "needs_background": "light"
     },
     "output_type": "display_data"
    }
   ],
   "source": [
    "from sklearn.datasets.samples_generator import make_blobs\n",
    "X, y_true = make_blobs(n_samples=392, centers=4,\n",
    "                       cluster_std=0.60, random_state=0)\n",
    "plt.scatter(X[:, 0], X[:, 1], s=50);"
   ]
  },
  {
   "cell_type": "code",
   "execution_count": 78,
   "metadata": {},
   "outputs": [
    {
     "data": {
      "text/plain": [
       "array([1, 3, 2, 3, 3, 0, 1, 1, 0, 3, 1, 3, 0, 1, 0, 2, 2, 3, 3, 0, 1, 1,\n",
       "       1, 0, 2, 2, 1, 3, 0, 0, 3, 2, 2, 1, 0, 1, 0, 3, 2, 3, 3, 3, 1, 3,\n",
       "       0, 0, 2, 1, 0, 1, 0, 0, 3, 3, 1, 1, 2, 0, 3, 1, 3, 2, 3, 0, 1, 3,\n",
       "       3, 3, 1, 3, 0, 3, 2, 1, 1, 1, 2, 1, 0, 0, 0, 2, 2, 0, 0, 2, 0, 2,\n",
       "       3, 2, 3, 1, 0, 1, 1, 2, 1, 1, 0, 2, 1, 3, 1, 0, 3, 3, 1, 2, 2, 2,\n",
       "       2, 2, 0, 0, 1, 2, 1, 0, 2, 2, 1, 0, 2, 1, 1, 2, 3, 0, 1, 0, 1, 2,\n",
       "       3, 0, 2, 1, 2, 1, 2, 1, 2, 2, 1, 0, 0, 2, 3, 2, 3, 2, 2, 1, 1, 0,\n",
       "       3, 3, 1, 3, 3, 2, 1, 2, 1, 0, 3, 3, 0, 0, 3, 2, 2, 3, 2, 3, 3, 0,\n",
       "       2, 0, 3, 1, 0, 1, 2, 3, 1, 1, 0, 0, 3, 1, 3, 3, 3, 2, 0, 1, 0, 1,\n",
       "       0, 2, 0, 2, 1, 3, 2, 2, 0, 1, 3, 2, 1, 3, 1, 3, 2, 1, 3, 0, 2, 2,\n",
       "       3, 1, 3, 2, 2, 3, 3, 3, 0, 1, 1, 3, 2, 3, 0, 0, 2, 3, 2, 2, 3, 1,\n",
       "       3, 3, 0, 0, 1, 2, 0, 0, 0, 2, 0, 1, 2, 2, 1, 1, 3, 0, 3, 0, 1, 3,\n",
       "       0, 1, 3, 0, 0, 3, 1, 2, 1, 3, 1, 0, 0, 3, 2, 2, 2, 0, 3, 2, 3, 0,\n",
       "       3, 0, 2, 2, 1, 0, 3, 1, 1, 2, 0, 1, 0, 2, 2, 1, 3, 1, 0, 3, 1, 2,\n",
       "       0, 0, 2, 0, 2, 0, 1, 0, 2, 0, 3, 2, 1, 0, 0, 3, 1, 1, 2, 1, 3, 0,\n",
       "       3, 1, 0, 1, 2, 1, 3, 3, 1, 2, 3, 2, 1, 2, 1, 2, 3, 3, 3, 1, 2, 1,\n",
       "       2, 3, 0, 0, 3, 3, 0, 1, 0, 2, 3, 0, 0, 1, 3, 0, 2, 3, 1, 0, 2, 2,\n",
       "       3, 1, 2, 0, 0, 1, 3, 0, 2, 0, 2, 0, 3, 0, 2, 2, 3, 1])"
      ]
     },
     "execution_count": 78,
     "metadata": {},
     "output_type": "execute_result"
    }
   ],
   "source": [
    "#Building kmeans cluster model.\n",
    "from sklearn.cluster import KMeans\n",
    "kmeans = KMeans(n_clusters=4)\n",
    "kmeans.fit(X)\n",
    "y_kmeans = kmeans.predict(X)\n",
    "y_kmeans"
   ]
  },
  {
   "cell_type": "markdown",
   "metadata": {},
   "source": [
    "# Finally, let's visualize the resulting clusters."
   ]
  },
  {
   "cell_type": "code",
   "execution_count": 79,
   "metadata": {},
   "outputs": [
    {
     "data": {
      "image/png": "[encoded data removed]",
      "text/plain": [
       "<Figure size 432x288 with 1 Axes>"
      ]
     },
     "metadata": {
      "needs_background": "light"
     },
     "output_type": "display_data"
    }
   ],
   "source": [
    "plt.scatter(X[:, 0], X[:, 1], c=y_kmeans, s=50, cmap='viridis')\n",
    "\n",
    "centers = kmeans.cluster_centers_\n",
    "plt.scatter(centers[:, 0], centers[:, 1], c='black', s=200, alpha=0.5);"
   ]
  },
  {
   "cell_type": "code",
   "execution_count": 80,
   "metadata": {},
   "outputs": [
    {
     "name": "stderr",
     "output_type": "stream",
     "text": [
      "C:\\Users\\Vijay Reddy\\Anaconda3\\lib\\site-packages\\ipykernel_launcher.py:1: SettingWithCopyWarning: \n",
      "A value is trying to be set on a copy of a slice from a DataFrame.\n",
      "Try using .loc[row_indexer,col_indexer] = value instead\n",
      "\n",
      "See the caveats in the documentation: http://pandas.pydata.org/pandas-docs/stable/user_guide/indexing.html#returning-a-view-versus-a-copy\n",
      "  \"\"\"Entry point for launching an IPython kernel.\n"
     ]
    }
   ],
   "source": [
    "viz[\"Cluster Labels\"] = kmeans.labels_"
   ]
  },
  {
   "cell_type": "code",
   "execution_count": 81,
   "metadata": {},
   "outputs": [
    {
     "data": {
      "text/html": [
       "<div>\n",
       "<style scoped>\n",
       "    .dataframe tbody tr th:only-of-type {\n",
       "        vertical-align: middle;\n",
       "    }\n",
       "\n",
       "    .dataframe tbody tr th {\n",
       "        vertical-align: top;\n",
       "    }\n",
       "\n",
       "    .dataframe thead th {\n",
       "        text-align: right;\n",
       "    }\n",
       "</style>\n",
       "<table border=\"1\" class=\"dataframe\">\n",
       "  <thead>\n",
       "    <tr style=\"text-align: right;\">\n",
       "      <th></th>\n",
       "      <th>Python</th>\n",
       "      <th>R Programming</th>\n",
       "      <th>Deep Learning</th>\n",
       "      <th>PHP</th>\n",
       "      <th>MySQL</th>\n",
       "      <th>HTML</th>\n",
       "      <th>CSS</th>\n",
       "      <th>JavaScript</th>\n",
       "      <th>AJAX</th>\n",
       "      <th>Bootstrap</th>\n",
       "      <th>MongoDB</th>\n",
       "      <th>Node.js</th>\n",
       "      <th>ReactJS</th>\n",
       "      <th>Performance_PG</th>\n",
       "      <th>Performance_UG</th>\n",
       "      <th>Current Year Of Graduation</th>\n",
       "      <th>Cluster Labels</th>\n",
       "    </tr>\n",
       "  </thead>\n",
       "  <tbody>\n",
       "    <tr>\n",
       "      <th>0</th>\n",
       "      <td>0</td>\n",
       "      <td>2</td>\n",
       "      <td>0</td>\n",
       "      <td>2</td>\n",
       "      <td>0</td>\n",
       "      <td>2</td>\n",
       "      <td>3</td>\n",
       "      <td>2</td>\n",
       "      <td>0</td>\n",
       "      <td>2</td>\n",
       "      <td>0</td>\n",
       "      <td>0</td>\n",
       "      <td>0</td>\n",
       "      <td>0</td>\n",
       "      <td>0</td>\n",
       "      <td>2017</td>\n",
       "      <td>1</td>\n",
       "    </tr>\n",
       "    <tr>\n",
       "      <th>1</th>\n",
       "      <td>2</td>\n",
       "      <td>0</td>\n",
       "      <td>0</td>\n",
       "      <td>2</td>\n",
       "      <td>2</td>\n",
       "      <td>2</td>\n",
       "      <td>2</td>\n",
       "      <td>2</td>\n",
       "      <td>0</td>\n",
       "      <td>0</td>\n",
       "      <td>0</td>\n",
       "      <td>0</td>\n",
       "      <td>0</td>\n",
       "      <td>0</td>\n",
       "      <td>85.50</td>\n",
       "      <td>2019</td>\n",
       "      <td>3</td>\n",
       "    </tr>\n",
       "    <tr>\n",
       "      <th>2</th>\n",
       "      <td>3</td>\n",
       "      <td>0</td>\n",
       "      <td>1</td>\n",
       "      <td>2</td>\n",
       "      <td>2</td>\n",
       "      <td>2</td>\n",
       "      <td>0</td>\n",
       "      <td>2</td>\n",
       "      <td>0</td>\n",
       "      <td>0</td>\n",
       "      <td>0</td>\n",
       "      <td>0</td>\n",
       "      <td>0</td>\n",
       "      <td>7.91</td>\n",
       "      <td>70.00</td>\n",
       "      <td>2018</td>\n",
       "      <td>2</td>\n",
       "    </tr>\n",
       "    <tr>\n",
       "      <th>3</th>\n",
       "      <td>2</td>\n",
       "      <td>0</td>\n",
       "      <td>2</td>\n",
       "      <td>1</td>\n",
       "      <td>0</td>\n",
       "      <td>2</td>\n",
       "      <td>0</td>\n",
       "      <td>0</td>\n",
       "      <td>0</td>\n",
       "      <td>0</td>\n",
       "      <td>0</td>\n",
       "      <td>0</td>\n",
       "      <td>0</td>\n",
       "      <td>0</td>\n",
       "      <td>6.86</td>\n",
       "      <td>2019</td>\n",
       "      <td>3</td>\n",
       "    </tr>\n",
       "    <tr>\n",
       "      <th>4</th>\n",
       "      <td>2</td>\n",
       "      <td>0</td>\n",
       "      <td>0</td>\n",
       "      <td>2</td>\n",
       "      <td>0</td>\n",
       "      <td>2</td>\n",
       "      <td>1</td>\n",
       "      <td>1</td>\n",
       "      <td>0</td>\n",
       "      <td>0</td>\n",
       "      <td>2</td>\n",
       "      <td>2</td>\n",
       "      <td>2</td>\n",
       "      <td>0</td>\n",
       "      <td>6.38</td>\n",
       "      <td>2018</td>\n",
       "      <td>3</td>\n",
       "    </tr>\n",
       "  </tbody>\n",
       "</table>\n",
       "</div>"
      ],
      "text/plain": [
       "   Python  R Programming  Deep Learning  PHP  MySQL  HTML  CSS  JavaScript  \\\n",
       "0       0              2              0    2      0     2    3           2   \n",
       "1       2              0              0    2      2     2    2           2   \n",
       "2       3              0              1    2      2     2    0           2   \n",
       "3       2              0              2    1      0     2    0           0   \n",
       "4       2              0              0    2      0     2    1           1   \n",
       "\n",
       "   AJAX  Bootstrap  MongoDB  Node.js  ReactJS Performance_PG Performance_UG  \\\n",
       "0     0          2        0        0        0              0              0   \n",
       "1     0          0        0        0        0              0     85.50        \n",
       "2     0          0        0        0        0      7.91          70.00        \n",
       "3     0          0        0        0        0              0      6.86        \n",
       "4     0          0        2        2        2              0      6.38        \n",
       "\n",
       "   Current Year Of Graduation  Cluster Labels  \n",
       "0                        2017               1  \n",
       "1                        2019               3  \n",
       "2                        2018               2  \n",
       "3                        2019               3  \n",
       "4                        2018               3  "
      ]
     },
     "execution_count": 81,
     "metadata": {},
     "output_type": "execute_result"
    }
   ],
   "source": [
    "viz.head()"
   ]
  },
  {
   "cell_type": "markdown",
   "metadata": {},
   "source": [
    "# Examine Clusters\n",
    "# Cluster 1"
   ]
  },
  {
   "cell_type": "code",
   "execution_count": 82,
   "metadata": {},
   "outputs": [
    {
     "data": {
      "text/html": [
       "<div>\n",
       "<style scoped>\n",
       "    .dataframe tbody tr th:only-of-type {\n",
       "        vertical-align: middle;\n",
       "    }\n",
       "\n",
       "    .dataframe tbody tr th {\n",
       "        vertical-align: top;\n",
       "    }\n",
       "\n",
       "    .dataframe thead th {\n",
       "        text-align: right;\n",
       "    }\n",
       "</style>\n",
       "<table border=\"1\" class=\"dataframe\">\n",
       "  <thead>\n",
       "    <tr style=\"text-align: right;\">\n",
       "      <th></th>\n",
       "      <th>Python</th>\n",
       "      <th>R Programming</th>\n",
       "      <th>Deep Learning</th>\n",
       "      <th>PHP</th>\n",
       "      <th>MySQL</th>\n",
       "      <th>HTML</th>\n",
       "      <th>CSS</th>\n",
       "      <th>JavaScript</th>\n",
       "      <th>AJAX</th>\n",
       "      <th>Bootstrap</th>\n",
       "      <th>MongoDB</th>\n",
       "      <th>Node.js</th>\n",
       "      <th>ReactJS</th>\n",
       "      <th>Performance_PG</th>\n",
       "      <th>Performance_UG</th>\n",
       "      <th>Current Year Of Graduation</th>\n",
       "      <th>Cluster Labels</th>\n",
       "    </tr>\n",
       "  </thead>\n",
       "  <tbody>\n",
       "    <tr>\n",
       "      <th>5</th>\n",
       "      <td>2</td>\n",
       "      <td>0</td>\n",
       "      <td>0</td>\n",
       "      <td>1</td>\n",
       "      <td>0</td>\n",
       "      <td>3</td>\n",
       "      <td>2</td>\n",
       "      <td>1</td>\n",
       "      <td>0</td>\n",
       "      <td>0</td>\n",
       "      <td>0</td>\n",
       "      <td>0</td>\n",
       "      <td>0</td>\n",
       "      <td>0</td>\n",
       "      <td>70.00</td>\n",
       "      <td>2019</td>\n",
       "      <td>0</td>\n",
       "    </tr>\n",
       "    <tr>\n",
       "      <th>8</th>\n",
       "      <td>3</td>\n",
       "      <td>0</td>\n",
       "      <td>0</td>\n",
       "      <td>0</td>\n",
       "      <td>0</td>\n",
       "      <td>2</td>\n",
       "      <td>2</td>\n",
       "      <td>0</td>\n",
       "      <td>0</td>\n",
       "      <td>0</td>\n",
       "      <td>0</td>\n",
       "      <td>0</td>\n",
       "      <td>0</td>\n",
       "      <td>8.00</td>\n",
       "      <td>7.00</td>\n",
       "      <td>2020</td>\n",
       "      <td>0</td>\n",
       "    </tr>\n",
       "    <tr>\n",
       "      <th>12</th>\n",
       "      <td>2</td>\n",
       "      <td>2</td>\n",
       "      <td>1</td>\n",
       "      <td>1</td>\n",
       "      <td>0</td>\n",
       "      <td>2</td>\n",
       "      <td>2</td>\n",
       "      <td>1</td>\n",
       "      <td>0</td>\n",
       "      <td>0</td>\n",
       "      <td>0</td>\n",
       "      <td>0</td>\n",
       "      <td>0</td>\n",
       "      <td>0</td>\n",
       "      <td>83.00</td>\n",
       "      <td>2020</td>\n",
       "      <td>0</td>\n",
       "    </tr>\n",
       "    <tr>\n",
       "      <th>14</th>\n",
       "      <td>2</td>\n",
       "      <td>0</td>\n",
       "      <td>0</td>\n",
       "      <td>0</td>\n",
       "      <td>0</td>\n",
       "      <td>0</td>\n",
       "      <td>0</td>\n",
       "      <td>0</td>\n",
       "      <td>0</td>\n",
       "      <td>0</td>\n",
       "      <td>0</td>\n",
       "      <td>0</td>\n",
       "      <td>0</td>\n",
       "      <td>0</td>\n",
       "      <td>8.40</td>\n",
       "      <td>2016</td>\n",
       "      <td>0</td>\n",
       "    </tr>\n",
       "    <tr>\n",
       "      <th>19</th>\n",
       "      <td>2</td>\n",
       "      <td>0</td>\n",
       "      <td>0</td>\n",
       "      <td>2</td>\n",
       "      <td>2</td>\n",
       "      <td>2</td>\n",
       "      <td>2</td>\n",
       "      <td>2</td>\n",
       "      <td>0</td>\n",
       "      <td>0</td>\n",
       "      <td>0</td>\n",
       "      <td>0</td>\n",
       "      <td>1</td>\n",
       "      <td>5.60</td>\n",
       "      <td>65.00</td>\n",
       "      <td>2019</td>\n",
       "      <td>0</td>\n",
       "    </tr>\n",
       "    <tr>\n",
       "      <th>...</th>\n",
       "      <td>...</td>\n",
       "      <td>...</td>\n",
       "      <td>...</td>\n",
       "      <td>...</td>\n",
       "      <td>...</td>\n",
       "      <td>...</td>\n",
       "      <td>...</td>\n",
       "      <td>...</td>\n",
       "      <td>...</td>\n",
       "      <td>...</td>\n",
       "      <td>...</td>\n",
       "      <td>...</td>\n",
       "      <td>...</td>\n",
       "      <td>...</td>\n",
       "      <td>...</td>\n",
       "      <td>...</td>\n",
       "      <td>...</td>\n",
       "    </tr>\n",
       "    <tr>\n",
       "      <th>378</th>\n",
       "      <td>2</td>\n",
       "      <td>0</td>\n",
       "      <td>0</td>\n",
       "      <td>2</td>\n",
       "      <td>3</td>\n",
       "      <td>3</td>\n",
       "      <td>2</td>\n",
       "      <td>2</td>\n",
       "      <td>0</td>\n",
       "      <td>2</td>\n",
       "      <td>0</td>\n",
       "      <td>2</td>\n",
       "      <td>0</td>\n",
       "      <td>0</td>\n",
       "      <td>7.67</td>\n",
       "      <td>2020</td>\n",
       "      <td>0</td>\n",
       "    </tr>\n",
       "    <tr>\n",
       "      <th>381</th>\n",
       "      <td>2</td>\n",
       "      <td>0</td>\n",
       "      <td>0</td>\n",
       "      <td>3</td>\n",
       "      <td>0</td>\n",
       "      <td>3</td>\n",
       "      <td>2</td>\n",
       "      <td>3</td>\n",
       "      <td>0</td>\n",
       "      <td>0</td>\n",
       "      <td>0</td>\n",
       "      <td>0</td>\n",
       "      <td>0</td>\n",
       "      <td>71.60</td>\n",
       "      <td>80.60</td>\n",
       "      <td>2019</td>\n",
       "      <td>0</td>\n",
       "    </tr>\n",
       "    <tr>\n",
       "      <th>383</th>\n",
       "      <td>2</td>\n",
       "      <td>0</td>\n",
       "      <td>0</td>\n",
       "      <td>0</td>\n",
       "      <td>0</td>\n",
       "      <td>0</td>\n",
       "      <td>0</td>\n",
       "      <td>0</td>\n",
       "      <td>0</td>\n",
       "      <td>0</td>\n",
       "      <td>0</td>\n",
       "      <td>0</td>\n",
       "      <td>0</td>\n",
       "      <td>0</td>\n",
       "      <td>60.30</td>\n",
       "      <td>2019</td>\n",
       "      <td>0</td>\n",
       "    </tr>\n",
       "    <tr>\n",
       "      <th>385</th>\n",
       "      <td>0</td>\n",
       "      <td>0</td>\n",
       "      <td>1</td>\n",
       "      <td>0</td>\n",
       "      <td>0</td>\n",
       "      <td>0</td>\n",
       "      <td>0</td>\n",
       "      <td>0</td>\n",
       "      <td>0</td>\n",
       "      <td>0</td>\n",
       "      <td>0</td>\n",
       "      <td>0</td>\n",
       "      <td>0</td>\n",
       "      <td>0</td>\n",
       "      <td>0</td>\n",
       "      <td>2020</td>\n",
       "      <td>0</td>\n",
       "    </tr>\n",
       "    <tr>\n",
       "      <th>387</th>\n",
       "      <td>2</td>\n",
       "      <td>1</td>\n",
       "      <td>0</td>\n",
       "      <td>0</td>\n",
       "      <td>0</td>\n",
       "      <td>2</td>\n",
       "      <td>0</td>\n",
       "      <td>0</td>\n",
       "      <td>0</td>\n",
       "      <td>0</td>\n",
       "      <td>0</td>\n",
       "      <td>0</td>\n",
       "      <td>0</td>\n",
       "      <td>0</td>\n",
       "      <td>75.00</td>\n",
       "      <td>2020</td>\n",
       "      <td>0</td>\n",
       "    </tr>\n",
       "  </tbody>\n",
       "</table>\n",
       "<p>98 rows × 17 columns</p>\n",
       "</div>"
      ],
      "text/plain": [
       "     Python  R Programming  Deep Learning  PHP  MySQL  HTML  CSS  JavaScript  \\\n",
       "5         2              0              0    1      0     3    2           1   \n",
       "8         3              0              0    0      0     2    2           0   \n",
       "12        2              2              1    1      0     2    2           1   \n",
       "14        2              0              0    0      0     0    0           0   \n",
       "19        2              0              0    2      2     2    2           2   \n",
       "..      ...            ...            ...  ...    ...   ...  ...         ...   \n",
       "378       2              0              0    2      3     3    2           2   \n",
       "381       2              0              0    3      0     3    2           3   \n",
       "383       2              0              0    0      0     0    0           0   \n",
       "385       0              0              1    0      0     0    0           0   \n",
       "387       2              1              0    0      0     2    0           0   \n",
       "\n",
       "     AJAX  Bootstrap  MongoDB  Node.js  ReactJS Performance_PG Performance_UG  \\\n",
       "5       0          0        0        0        0              0     70.00        \n",
       "8       0          0        0        0        0      8.00           7.00        \n",
       "12      0          0        0        0        0              0     83.00        \n",
       "14      0          0        0        0        0              0      8.40        \n",
       "19      0          0        0        0        1      5.60          65.00        \n",
       "..    ...        ...      ...      ...      ...            ...            ...   \n",
       "378     0          2        0        2        0              0      7.67        \n",
       "381     0          0        0        0        0     71.60          80.60        \n",
       "383     0          0        0        0        0              0     60.30        \n",
       "385     0          0        0        0        0              0              0   \n",
       "387     0          0        0        0        0              0     75.00        \n",
       "\n",
       "     Current Year Of Graduation  Cluster Labels  \n",
       "5                          2019               0  \n",
       "8                          2020               0  \n",
       "12                         2020               0  \n",
       "14                         2016               0  \n",
       "19                         2019               0  \n",
       "..                          ...             ...  \n",
       "378                        2020               0  \n",
       "381                        2019               0  \n",
       "383                        2019               0  \n",
       "385                        2020               0  \n",
       "387                        2020               0  \n",
       "\n",
       "[98 rows x 17 columns]"
      ]
     },
     "execution_count": 82,
     "metadata": {},
     "output_type": "execute_result"
    }
   ],
   "source": [
    "viz.loc[viz['Cluster Labels'] == 0]"
   ]
  },
  {
   "cell_type": "markdown",
   "metadata": {},
   "source": [
    "# Cluster 2"
   ]
  },
  {
   "cell_type": "code",
   "execution_count": 83,
   "metadata": {},
   "outputs": [
    {
     "data": {
      "text/html": [
       "<div>\n",
       "<style scoped>\n",
       "    .dataframe tbody tr th:only-of-type {\n",
       "        vertical-align: middle;\n",
       "    }\n",
       "\n",
       "    .dataframe tbody tr th {\n",
       "        vertical-align: top;\n",
       "    }\n",
       "\n",
       "    .dataframe thead th {\n",
       "        text-align: right;\n",
       "    }\n",
       "</style>\n",
       "<table border=\"1\" class=\"dataframe\">\n",
       "  <thead>\n",
       "    <tr style=\"text-align: right;\">\n",
       "      <th></th>\n",
       "      <th>Python</th>\n",
       "      <th>R Programming</th>\n",
       "      <th>Deep Learning</th>\n",
       "      <th>PHP</th>\n",
       "      <th>MySQL</th>\n",
       "      <th>HTML</th>\n",
       "      <th>CSS</th>\n",
       "      <th>JavaScript</th>\n",
       "      <th>AJAX</th>\n",
       "      <th>Bootstrap</th>\n",
       "      <th>MongoDB</th>\n",
       "      <th>Node.js</th>\n",
       "      <th>ReactJS</th>\n",
       "      <th>Performance_PG</th>\n",
       "      <th>Performance_UG</th>\n",
       "      <th>Current Year Of Graduation</th>\n",
       "      <th>Cluster Labels</th>\n",
       "    </tr>\n",
       "  </thead>\n",
       "  <tbody>\n",
       "    <tr>\n",
       "      <th>0</th>\n",
       "      <td>0</td>\n",
       "      <td>2</td>\n",
       "      <td>0</td>\n",
       "      <td>2</td>\n",
       "      <td>0</td>\n",
       "      <td>2</td>\n",
       "      <td>3</td>\n",
       "      <td>2</td>\n",
       "      <td>0</td>\n",
       "      <td>2</td>\n",
       "      <td>0</td>\n",
       "      <td>0</td>\n",
       "      <td>0</td>\n",
       "      <td>0</td>\n",
       "      <td>0</td>\n",
       "      <td>2017</td>\n",
       "      <td>1</td>\n",
       "    </tr>\n",
       "    <tr>\n",
       "      <th>6</th>\n",
       "      <td>1</td>\n",
       "      <td>0</td>\n",
       "      <td>0</td>\n",
       "      <td>0</td>\n",
       "      <td>0</td>\n",
       "      <td>0</td>\n",
       "      <td>0</td>\n",
       "      <td>0</td>\n",
       "      <td>0</td>\n",
       "      <td>0</td>\n",
       "      <td>0</td>\n",
       "      <td>0</td>\n",
       "      <td>0</td>\n",
       "      <td>0</td>\n",
       "      <td>80.00</td>\n",
       "      <td>2020</td>\n",
       "      <td>1</td>\n",
       "    </tr>\n",
       "    <tr>\n",
       "      <th>7</th>\n",
       "      <td>3</td>\n",
       "      <td>1</td>\n",
       "      <td>0</td>\n",
       "      <td>0</td>\n",
       "      <td>0</td>\n",
       "      <td>2</td>\n",
       "      <td>0</td>\n",
       "      <td>0</td>\n",
       "      <td>0</td>\n",
       "      <td>0</td>\n",
       "      <td>0</td>\n",
       "      <td>0</td>\n",
       "      <td>0</td>\n",
       "      <td>3.61</td>\n",
       "      <td>2.68</td>\n",
       "      <td>2019</td>\n",
       "      <td>1</td>\n",
       "    </tr>\n",
       "    <tr>\n",
       "      <th>10</th>\n",
       "      <td>2</td>\n",
       "      <td>0</td>\n",
       "      <td>0</td>\n",
       "      <td>0</td>\n",
       "      <td>0</td>\n",
       "      <td>0</td>\n",
       "      <td>0</td>\n",
       "      <td>0</td>\n",
       "      <td>0</td>\n",
       "      <td>0</td>\n",
       "      <td>0</td>\n",
       "      <td>0</td>\n",
       "      <td>0</td>\n",
       "      <td>0</td>\n",
       "      <td>64.00</td>\n",
       "      <td>2018</td>\n",
       "      <td>1</td>\n",
       "    </tr>\n",
       "    <tr>\n",
       "      <th>13</th>\n",
       "      <td>2</td>\n",
       "      <td>2</td>\n",
       "      <td>0</td>\n",
       "      <td>2</td>\n",
       "      <td>1</td>\n",
       "      <td>0</td>\n",
       "      <td>0</td>\n",
       "      <td>0</td>\n",
       "      <td>0</td>\n",
       "      <td>0</td>\n",
       "      <td>0</td>\n",
       "      <td>0</td>\n",
       "      <td>0</td>\n",
       "      <td>0</td>\n",
       "      <td>6.53</td>\n",
       "      <td>2019</td>\n",
       "      <td>1</td>\n",
       "    </tr>\n",
       "    <tr>\n",
       "      <th>...</th>\n",
       "      <td>...</td>\n",
       "      <td>...</td>\n",
       "      <td>...</td>\n",
       "      <td>...</td>\n",
       "      <td>...</td>\n",
       "      <td>...</td>\n",
       "      <td>...</td>\n",
       "      <td>...</td>\n",
       "      <td>...</td>\n",
       "      <td>...</td>\n",
       "      <td>...</td>\n",
       "      <td>...</td>\n",
       "      <td>...</td>\n",
       "      <td>...</td>\n",
       "      <td>...</td>\n",
       "      <td>...</td>\n",
       "      <td>...</td>\n",
       "    </tr>\n",
       "    <tr>\n",
       "      <th>365</th>\n",
       "      <td>0</td>\n",
       "      <td>0</td>\n",
       "      <td>0</td>\n",
       "      <td>0</td>\n",
       "      <td>0</td>\n",
       "      <td>2</td>\n",
       "      <td>0</td>\n",
       "      <td>0</td>\n",
       "      <td>0</td>\n",
       "      <td>0</td>\n",
       "      <td>0</td>\n",
       "      <td>0</td>\n",
       "      <td>0</td>\n",
       "      <td>0</td>\n",
       "      <td>80.00</td>\n",
       "      <td>2020</td>\n",
       "      <td>1</td>\n",
       "    </tr>\n",
       "    <tr>\n",
       "      <th>370</th>\n",
       "      <td>1</td>\n",
       "      <td>0</td>\n",
       "      <td>0</td>\n",
       "      <td>0</td>\n",
       "      <td>0</td>\n",
       "      <td>2</td>\n",
       "      <td>2</td>\n",
       "      <td>0</td>\n",
       "      <td>0</td>\n",
       "      <td>0</td>\n",
       "      <td>0</td>\n",
       "      <td>0</td>\n",
       "      <td>0</td>\n",
       "      <td>0</td>\n",
       "      <td>9.13</td>\n",
       "      <td>2020</td>\n",
       "      <td>1</td>\n",
       "    </tr>\n",
       "    <tr>\n",
       "      <th>375</th>\n",
       "      <td>0</td>\n",
       "      <td>0</td>\n",
       "      <td>0</td>\n",
       "      <td>0</td>\n",
       "      <td>0</td>\n",
       "      <td>0</td>\n",
       "      <td>0</td>\n",
       "      <td>0</td>\n",
       "      <td>0</td>\n",
       "      <td>0</td>\n",
       "      <td>0</td>\n",
       "      <td>0</td>\n",
       "      <td>0</td>\n",
       "      <td>0</td>\n",
       "      <td>6.00</td>\n",
       "      <td>2020</td>\n",
       "      <td>1</td>\n",
       "    </tr>\n",
       "    <tr>\n",
       "      <th>379</th>\n",
       "      <td>0</td>\n",
       "      <td>0</td>\n",
       "      <td>2</td>\n",
       "      <td>0</td>\n",
       "      <td>0</td>\n",
       "      <td>0</td>\n",
       "      <td>0</td>\n",
       "      <td>0</td>\n",
       "      <td>0</td>\n",
       "      <td>0</td>\n",
       "      <td>0</td>\n",
       "      <td>0</td>\n",
       "      <td>0</td>\n",
       "      <td>0</td>\n",
       "      <td>6.20</td>\n",
       "      <td>2020</td>\n",
       "      <td>1</td>\n",
       "    </tr>\n",
       "    <tr>\n",
       "      <th>391</th>\n",
       "      <td>2</td>\n",
       "      <td>3</td>\n",
       "      <td>0</td>\n",
       "      <td>2</td>\n",
       "      <td>0</td>\n",
       "      <td>2</td>\n",
       "      <td>2</td>\n",
       "      <td>3</td>\n",
       "      <td>0</td>\n",
       "      <td>0</td>\n",
       "      <td>0</td>\n",
       "      <td>0</td>\n",
       "      <td>0</td>\n",
       "      <td>6.40</td>\n",
       "      <td>63.06</td>\n",
       "      <td>2020</td>\n",
       "      <td>1</td>\n",
       "    </tr>\n",
       "  </tbody>\n",
       "</table>\n",
       "<p>98 rows × 17 columns</p>\n",
       "</div>"
      ],
      "text/plain": [
       "     Python  R Programming  Deep Learning  PHP  MySQL  HTML  CSS  JavaScript  \\\n",
       "0         0              2              0    2      0     2    3           2   \n",
       "6         1              0              0    0      0     0    0           0   \n",
       "7         3              1              0    0      0     2    0           0   \n",
       "10        2              0              0    0      0     0    0           0   \n",
       "13        2              2              0    2      1     0    0           0   \n",
       "..      ...            ...            ...  ...    ...   ...  ...         ...   \n",
       "365       0              0              0    0      0     2    0           0   \n",
       "370       1              0              0    0      0     2    2           0   \n",
       "375       0              0              0    0      0     0    0           0   \n",
       "379       0              0              2    0      0     0    0           0   \n",
       "391       2              3              0    2      0     2    2           3   \n",
       "\n",
       "     AJAX  Bootstrap  MongoDB  Node.js  ReactJS Performance_PG Performance_UG  \\\n",
       "0       0          2        0        0        0              0              0   \n",
       "6       0          0        0        0        0              0     80.00        \n",
       "7       0          0        0        0        0      3.61           2.68        \n",
       "10      0          0        0        0        0              0     64.00        \n",
       "13      0          0        0        0        0              0      6.53        \n",
       "..    ...        ...      ...      ...      ...            ...            ...   \n",
       "365     0          0        0        0        0              0     80.00        \n",
       "370     0          0        0        0        0              0      9.13        \n",
       "375     0          0        0        0        0              0      6.00        \n",
       "379     0          0        0        0        0              0      6.20        \n",
       "391     0          0        0        0        0      6.40          63.06        \n",
       "\n",
       "     Current Year Of Graduation  Cluster Labels  \n",
       "0                          2017               1  \n",
       "6                          2020               1  \n",
       "7                          2019               1  \n",
       "10                         2018               1  \n",
       "13                         2019               1  \n",
       "..                          ...             ...  \n",
       "365                        2020               1  \n",
       "370                        2020               1  \n",
       "375                        2020               1  \n",
       "379                        2020               1  \n",
       "391                        2020               1  \n",
       "\n",
       "[98 rows x 17 columns]"
      ]
     },
     "execution_count": 83,
     "metadata": {},
     "output_type": "execute_result"
    }
   ],
   "source": [
    "viz.loc[viz['Cluster Labels'] == 1]"
   ]
  },
  {
   "cell_type": "markdown",
   "metadata": {},
   "source": [
    "# Cluster 3"
   ]
  },
  {
   "cell_type": "code",
   "execution_count": 84,
   "metadata": {},
   "outputs": [
    {
     "data": {
      "text/html": [
       "<div>\n",
       "<style scoped>\n",
       "    .dataframe tbody tr th:only-of-type {\n",
       "        vertical-align: middle;\n",
       "    }\n",
       "\n",
       "    .dataframe tbody tr th {\n",
       "        vertical-align: top;\n",
       "    }\n",
       "\n",
       "    .dataframe thead th {\n",
       "        text-align: right;\n",
       "    }\n",
       "</style>\n",
       "<table border=\"1\" class=\"dataframe\">\n",
       "  <thead>\n",
       "    <tr style=\"text-align: right;\">\n",
       "      <th></th>\n",
       "      <th>Python</th>\n",
       "      <th>R Programming</th>\n",
       "      <th>Deep Learning</th>\n",
       "      <th>PHP</th>\n",
       "      <th>MySQL</th>\n",
       "      <th>HTML</th>\n",
       "      <th>CSS</th>\n",
       "      <th>JavaScript</th>\n",
       "      <th>AJAX</th>\n",
       "      <th>Bootstrap</th>\n",
       "      <th>MongoDB</th>\n",
       "      <th>Node.js</th>\n",
       "      <th>ReactJS</th>\n",
       "      <th>Performance_PG</th>\n",
       "      <th>Performance_UG</th>\n",
       "      <th>Current Year Of Graduation</th>\n",
       "      <th>Cluster Labels</th>\n",
       "    </tr>\n",
       "  </thead>\n",
       "  <tbody>\n",
       "    <tr>\n",
       "      <th>2</th>\n",
       "      <td>3</td>\n",
       "      <td>0</td>\n",
       "      <td>1</td>\n",
       "      <td>2</td>\n",
       "      <td>2</td>\n",
       "      <td>2</td>\n",
       "      <td>0</td>\n",
       "      <td>2</td>\n",
       "      <td>0</td>\n",
       "      <td>0</td>\n",
       "      <td>0</td>\n",
       "      <td>0</td>\n",
       "      <td>0</td>\n",
       "      <td>7.91</td>\n",
       "      <td>70.00</td>\n",
       "      <td>2018</td>\n",
       "      <td>2</td>\n",
       "    </tr>\n",
       "    <tr>\n",
       "      <th>15</th>\n",
       "      <td>2</td>\n",
       "      <td>0</td>\n",
       "      <td>0</td>\n",
       "      <td>0</td>\n",
       "      <td>2</td>\n",
       "      <td>2</td>\n",
       "      <td>2</td>\n",
       "      <td>1</td>\n",
       "      <td>1</td>\n",
       "      <td>1</td>\n",
       "      <td>0</td>\n",
       "      <td>0</td>\n",
       "      <td>0</td>\n",
       "      <td>0</td>\n",
       "      <td>8.00</td>\n",
       "      <td>2020</td>\n",
       "      <td>2</td>\n",
       "    </tr>\n",
       "    <tr>\n",
       "      <th>16</th>\n",
       "      <td>2</td>\n",
       "      <td>0</td>\n",
       "      <td>0</td>\n",
       "      <td>2</td>\n",
       "      <td>0</td>\n",
       "      <td>2</td>\n",
       "      <td>2</td>\n",
       "      <td>0</td>\n",
       "      <td>0</td>\n",
       "      <td>0</td>\n",
       "      <td>0</td>\n",
       "      <td>0</td>\n",
       "      <td>0</td>\n",
       "      <td>79.00</td>\n",
       "      <td>81.25</td>\n",
       "      <td>2019</td>\n",
       "      <td>2</td>\n",
       "    </tr>\n",
       "    <tr>\n",
       "      <th>24</th>\n",
       "      <td>2</td>\n",
       "      <td>0</td>\n",
       "      <td>0</td>\n",
       "      <td>0</td>\n",
       "      <td>2</td>\n",
       "      <td>0</td>\n",
       "      <td>2</td>\n",
       "      <td>2</td>\n",
       "      <td>0</td>\n",
       "      <td>0</td>\n",
       "      <td>0</td>\n",
       "      <td>0</td>\n",
       "      <td>0</td>\n",
       "      <td>9.00</td>\n",
       "      <td>6.00</td>\n",
       "      <td>2020</td>\n",
       "      <td>2</td>\n",
       "    </tr>\n",
       "    <tr>\n",
       "      <th>25</th>\n",
       "      <td>2</td>\n",
       "      <td>0</td>\n",
       "      <td>0</td>\n",
       "      <td>0</td>\n",
       "      <td>0</td>\n",
       "      <td>2</td>\n",
       "      <td>0</td>\n",
       "      <td>0</td>\n",
       "      <td>0</td>\n",
       "      <td>0</td>\n",
       "      <td>0</td>\n",
       "      <td>0</td>\n",
       "      <td>0</td>\n",
       "      <td>8.35</td>\n",
       "      <td>75.00</td>\n",
       "      <td>2018</td>\n",
       "      <td>2</td>\n",
       "    </tr>\n",
       "    <tr>\n",
       "      <th>...</th>\n",
       "      <td>...</td>\n",
       "      <td>...</td>\n",
       "      <td>...</td>\n",
       "      <td>...</td>\n",
       "      <td>...</td>\n",
       "      <td>...</td>\n",
       "      <td>...</td>\n",
       "      <td>...</td>\n",
       "      <td>...</td>\n",
       "      <td>...</td>\n",
       "      <td>...</td>\n",
       "      <td>...</td>\n",
       "      <td>...</td>\n",
       "      <td>...</td>\n",
       "      <td>...</td>\n",
       "      <td>...</td>\n",
       "      <td>...</td>\n",
       "    </tr>\n",
       "    <tr>\n",
       "      <th>376</th>\n",
       "      <td>0</td>\n",
       "      <td>1</td>\n",
       "      <td>0</td>\n",
       "      <td>1</td>\n",
       "      <td>2</td>\n",
       "      <td>1</td>\n",
       "      <td>2</td>\n",
       "      <td>0</td>\n",
       "      <td>0</td>\n",
       "      <td>2</td>\n",
       "      <td>0</td>\n",
       "      <td>0</td>\n",
       "      <td>0</td>\n",
       "      <td>0</td>\n",
       "      <td>7.00</td>\n",
       "      <td>2020</td>\n",
       "      <td>2</td>\n",
       "    </tr>\n",
       "    <tr>\n",
       "      <th>382</th>\n",
       "      <td>0</td>\n",
       "      <td>0</td>\n",
       "      <td>0</td>\n",
       "      <td>0</td>\n",
       "      <td>0</td>\n",
       "      <td>2</td>\n",
       "      <td>0</td>\n",
       "      <td>2</td>\n",
       "      <td>0</td>\n",
       "      <td>0</td>\n",
       "      <td>0</td>\n",
       "      <td>0</td>\n",
       "      <td>0</td>\n",
       "      <td>0</td>\n",
       "      <td>7.11</td>\n",
       "      <td>2015</td>\n",
       "      <td>2</td>\n",
       "    </tr>\n",
       "    <tr>\n",
       "      <th>384</th>\n",
       "      <td>1</td>\n",
       "      <td>1</td>\n",
       "      <td>0</td>\n",
       "      <td>0</td>\n",
       "      <td>0</td>\n",
       "      <td>0</td>\n",
       "      <td>0</td>\n",
       "      <td>0</td>\n",
       "      <td>0</td>\n",
       "      <td>0</td>\n",
       "      <td>0</td>\n",
       "      <td>0</td>\n",
       "      <td>0</td>\n",
       "      <td>6.50</td>\n",
       "      <td>73.00</td>\n",
       "      <td>2020</td>\n",
       "      <td>2</td>\n",
       "    </tr>\n",
       "    <tr>\n",
       "      <th>388</th>\n",
       "      <td>2</td>\n",
       "      <td>0</td>\n",
       "      <td>0</td>\n",
       "      <td>2</td>\n",
       "      <td>0</td>\n",
       "      <td>2</td>\n",
       "      <td>2</td>\n",
       "      <td>1</td>\n",
       "      <td>0</td>\n",
       "      <td>0</td>\n",
       "      <td>0</td>\n",
       "      <td>0</td>\n",
       "      <td>0</td>\n",
       "      <td>7.78</td>\n",
       "      <td>6.80</td>\n",
       "      <td>2020</td>\n",
       "      <td>2</td>\n",
       "    </tr>\n",
       "    <tr>\n",
       "      <th>389</th>\n",
       "      <td>1</td>\n",
       "      <td>0</td>\n",
       "      <td>0</td>\n",
       "      <td>0</td>\n",
       "      <td>0</td>\n",
       "      <td>2</td>\n",
       "      <td>2</td>\n",
       "      <td>1</td>\n",
       "      <td>0</td>\n",
       "      <td>0</td>\n",
       "      <td>0</td>\n",
       "      <td>0</td>\n",
       "      <td>0</td>\n",
       "      <td>0</td>\n",
       "      <td>6.10</td>\n",
       "      <td>2020</td>\n",
       "      <td>2</td>\n",
       "    </tr>\n",
       "  </tbody>\n",
       "</table>\n",
       "<p>98 rows × 17 columns</p>\n",
       "</div>"
      ],
      "text/plain": [
       "     Python  R Programming  Deep Learning  PHP  MySQL  HTML  CSS  JavaScript  \\\n",
       "2         3              0              1    2      2     2    0           2   \n",
       "15        2              0              0    0      2     2    2           1   \n",
       "16        2              0              0    2      0     2    2           0   \n",
       "24        2              0              0    0      2     0    2           2   \n",
       "25        2              0              0    0      0     2    0           0   \n",
       "..      ...            ...            ...  ...    ...   ...  ...         ...   \n",
       "376       0              1              0    1      2     1    2           0   \n",
       "382       0              0              0    0      0     2    0           2   \n",
       "384       1              1              0    0      0     0    0           0   \n",
       "388       2              0              0    2      0     2    2           1   \n",
       "389       1              0              0    0      0     2    2           1   \n",
       "\n",
       "     AJAX  Bootstrap  MongoDB  Node.js  ReactJS Performance_PG Performance_UG  \\\n",
       "2       0          0        0        0        0      7.91          70.00        \n",
       "15      1          1        0        0        0              0      8.00        \n",
       "16      0          0        0        0        0     79.00          81.25        \n",
       "24      0          0        0        0        0      9.00           6.00        \n",
       "25      0          0        0        0        0      8.35          75.00        \n",
       "..    ...        ...      ...      ...      ...            ...            ...   \n",
       "376     0          2        0        0        0              0      7.00        \n",
       "382     0          0        0        0        0              0      7.11        \n",
       "384     0          0        0        0        0      6.50          73.00        \n",
       "388     0          0        0        0        0      7.78           6.80        \n",
       "389     0          0        0        0        0              0      6.10        \n",
       "\n",
       "     Current Year Of Graduation  Cluster Labels  \n",
       "2                          2018               2  \n",
       "15                         2020               2  \n",
       "16                         2019               2  \n",
       "24                         2020               2  \n",
       "25                         2018               2  \n",
       "..                          ...             ...  \n",
       "376                        2020               2  \n",
       "382                        2015               2  \n",
       "384                        2020               2  \n",
       "388                        2020               2  \n",
       "389                        2020               2  \n",
       "\n",
       "[98 rows x 17 columns]"
      ]
     },
     "execution_count": 84,
     "metadata": {},
     "output_type": "execute_result"
    }
   ],
   "source": [
    "viz.loc[viz['Cluster Labels'] == 2]"
   ]
  },
  {
   "cell_type": "markdown",
   "metadata": {},
   "source": [
    "# Cluster 4"
   ]
  },
  {
   "cell_type": "code",
   "execution_count": 85,
   "metadata": {},
   "outputs": [
    {
     "data": {
      "text/html": [
       "<div>\n",
       "<style scoped>\n",
       "    .dataframe tbody tr th:only-of-type {\n",
       "        vertical-align: middle;\n",
       "    }\n",
       "\n",
       "    .dataframe tbody tr th {\n",
       "        vertical-align: top;\n",
       "    }\n",
       "\n",
       "    .dataframe thead th {\n",
       "        text-align: right;\n",
       "    }\n",
       "</style>\n",
       "<table border=\"1\" class=\"dataframe\">\n",
       "  <thead>\n",
       "    <tr style=\"text-align: right;\">\n",
       "      <th></th>\n",
       "      <th>Python</th>\n",
       "      <th>R Programming</th>\n",
       "      <th>Deep Learning</th>\n",
       "      <th>PHP</th>\n",
       "      <th>MySQL</th>\n",
       "      <th>HTML</th>\n",
       "      <th>CSS</th>\n",
       "      <th>JavaScript</th>\n",
       "      <th>AJAX</th>\n",
       "      <th>Bootstrap</th>\n",
       "      <th>MongoDB</th>\n",
       "      <th>Node.js</th>\n",
       "      <th>ReactJS</th>\n",
       "      <th>Performance_PG</th>\n",
       "      <th>Performance_UG</th>\n",
       "      <th>Current Year Of Graduation</th>\n",
       "      <th>Cluster Labels</th>\n",
       "    </tr>\n",
       "  </thead>\n",
       "  <tbody>\n",
       "    <tr>\n",
       "      <th>1</th>\n",
       "      <td>2</td>\n",
       "      <td>0</td>\n",
       "      <td>0</td>\n",
       "      <td>2</td>\n",
       "      <td>2</td>\n",
       "      <td>2</td>\n",
       "      <td>2</td>\n",
       "      <td>2</td>\n",
       "      <td>0</td>\n",
       "      <td>0</td>\n",
       "      <td>0</td>\n",
       "      <td>0</td>\n",
       "      <td>0</td>\n",
       "      <td>0</td>\n",
       "      <td>85.50</td>\n",
       "      <td>2019</td>\n",
       "      <td>3</td>\n",
       "    </tr>\n",
       "    <tr>\n",
       "      <th>3</th>\n",
       "      <td>2</td>\n",
       "      <td>0</td>\n",
       "      <td>2</td>\n",
       "      <td>1</td>\n",
       "      <td>0</td>\n",
       "      <td>2</td>\n",
       "      <td>0</td>\n",
       "      <td>0</td>\n",
       "      <td>0</td>\n",
       "      <td>0</td>\n",
       "      <td>0</td>\n",
       "      <td>0</td>\n",
       "      <td>0</td>\n",
       "      <td>0</td>\n",
       "      <td>6.86</td>\n",
       "      <td>2019</td>\n",
       "      <td>3</td>\n",
       "    </tr>\n",
       "    <tr>\n",
       "      <th>4</th>\n",
       "      <td>2</td>\n",
       "      <td>0</td>\n",
       "      <td>0</td>\n",
       "      <td>2</td>\n",
       "      <td>0</td>\n",
       "      <td>2</td>\n",
       "      <td>1</td>\n",
       "      <td>1</td>\n",
       "      <td>0</td>\n",
       "      <td>0</td>\n",
       "      <td>2</td>\n",
       "      <td>2</td>\n",
       "      <td>2</td>\n",
       "      <td>0</td>\n",
       "      <td>6.38</td>\n",
       "      <td>2018</td>\n",
       "      <td>3</td>\n",
       "    </tr>\n",
       "    <tr>\n",
       "      <th>9</th>\n",
       "      <td>2</td>\n",
       "      <td>0</td>\n",
       "      <td>2</td>\n",
       "      <td>0</td>\n",
       "      <td>0</td>\n",
       "      <td>2</td>\n",
       "      <td>2</td>\n",
       "      <td>2</td>\n",
       "      <td>0</td>\n",
       "      <td>0</td>\n",
       "      <td>0</td>\n",
       "      <td>0</td>\n",
       "      <td>2</td>\n",
       "      <td>71.00</td>\n",
       "      <td>60.00</td>\n",
       "      <td>2020</td>\n",
       "      <td>3</td>\n",
       "    </tr>\n",
       "    <tr>\n",
       "      <th>11</th>\n",
       "      <td>3</td>\n",
       "      <td>0</td>\n",
       "      <td>2</td>\n",
       "      <td>1</td>\n",
       "      <td>0</td>\n",
       "      <td>2</td>\n",
       "      <td>0</td>\n",
       "      <td>0</td>\n",
       "      <td>0</td>\n",
       "      <td>0</td>\n",
       "      <td>0</td>\n",
       "      <td>0</td>\n",
       "      <td>0</td>\n",
       "      <td>0</td>\n",
       "      <td>7.60</td>\n",
       "      <td>2020</td>\n",
       "      <td>3</td>\n",
       "    </tr>\n",
       "    <tr>\n",
       "      <th>...</th>\n",
       "      <td>...</td>\n",
       "      <td>...</td>\n",
       "      <td>...</td>\n",
       "      <td>...</td>\n",
       "      <td>...</td>\n",
       "      <td>...</td>\n",
       "      <td>...</td>\n",
       "      <td>...</td>\n",
       "      <td>...</td>\n",
       "      <td>...</td>\n",
       "      <td>...</td>\n",
       "      <td>...</td>\n",
       "      <td>...</td>\n",
       "      <td>...</td>\n",
       "      <td>...</td>\n",
       "      <td>...</td>\n",
       "      <td>...</td>\n",
       "    </tr>\n",
       "    <tr>\n",
       "      <th>369</th>\n",
       "      <td>0</td>\n",
       "      <td>0</td>\n",
       "      <td>0</td>\n",
       "      <td>1</td>\n",
       "      <td>1</td>\n",
       "      <td>1</td>\n",
       "      <td>1</td>\n",
       "      <td>0</td>\n",
       "      <td>0</td>\n",
       "      <td>0</td>\n",
       "      <td>0</td>\n",
       "      <td>0</td>\n",
       "      <td>0</td>\n",
       "      <td>67.00</td>\n",
       "      <td>56.00</td>\n",
       "      <td>2020</td>\n",
       "      <td>3</td>\n",
       "    </tr>\n",
       "    <tr>\n",
       "      <th>374</th>\n",
       "      <td>2</td>\n",
       "      <td>0</td>\n",
       "      <td>2</td>\n",
       "      <td>0</td>\n",
       "      <td>2</td>\n",
       "      <td>2</td>\n",
       "      <td>2</td>\n",
       "      <td>1</td>\n",
       "      <td>0</td>\n",
       "      <td>2</td>\n",
       "      <td>0</td>\n",
       "      <td>0</td>\n",
       "      <td>0</td>\n",
       "      <td>7.60</td>\n",
       "      <td>7.60</td>\n",
       "      <td>2019</td>\n",
       "      <td>3</td>\n",
       "    </tr>\n",
       "    <tr>\n",
       "      <th>380</th>\n",
       "      <td>0</td>\n",
       "      <td>0</td>\n",
       "      <td>0</td>\n",
       "      <td>0</td>\n",
       "      <td>0</td>\n",
       "      <td>0</td>\n",
       "      <td>0</td>\n",
       "      <td>0</td>\n",
       "      <td>0</td>\n",
       "      <td>0</td>\n",
       "      <td>0</td>\n",
       "      <td>0</td>\n",
       "      <td>0</td>\n",
       "      <td>0</td>\n",
       "      <td>9.00</td>\n",
       "      <td>2020</td>\n",
       "      <td>3</td>\n",
       "    </tr>\n",
       "    <tr>\n",
       "      <th>386</th>\n",
       "      <td>1</td>\n",
       "      <td>1</td>\n",
       "      <td>0</td>\n",
       "      <td>2</td>\n",
       "      <td>2</td>\n",
       "      <td>2</td>\n",
       "      <td>2</td>\n",
       "      <td>2</td>\n",
       "      <td>0</td>\n",
       "      <td>2</td>\n",
       "      <td>0</td>\n",
       "      <td>0</td>\n",
       "      <td>0</td>\n",
       "      <td>0</td>\n",
       "      <td>75.50</td>\n",
       "      <td>2020</td>\n",
       "      <td>3</td>\n",
       "    </tr>\n",
       "    <tr>\n",
       "      <th>390</th>\n",
       "      <td>2</td>\n",
       "      <td>2</td>\n",
       "      <td>0</td>\n",
       "      <td>0</td>\n",
       "      <td>0</td>\n",
       "      <td>0</td>\n",
       "      <td>0</td>\n",
       "      <td>0</td>\n",
       "      <td>0</td>\n",
       "      <td>0</td>\n",
       "      <td>0</td>\n",
       "      <td>0</td>\n",
       "      <td>0</td>\n",
       "      <td>0</td>\n",
       "      <td>6.50</td>\n",
       "      <td>2020</td>\n",
       "      <td>3</td>\n",
       "    </tr>\n",
       "  </tbody>\n",
       "</table>\n",
       "<p>98 rows × 17 columns</p>\n",
       "</div>"
      ],
      "text/plain": [
       "     Python  R Programming  Deep Learning  PHP  MySQL  HTML  CSS  JavaScript  \\\n",
       "1         2              0              0    2      2     2    2           2   \n",
       "3         2              0              2    1      0     2    0           0   \n",
       "4         2              0              0    2      0     2    1           1   \n",
       "9         2              0              2    0      0     2    2           2   \n",
       "11        3              0              2    1      0     2    0           0   \n",
       "..      ...            ...            ...  ...    ...   ...  ...         ...   \n",
       "369       0              0              0    1      1     1    1           0   \n",
       "374       2              0              2    0      2     2    2           1   \n",
       "380       0              0              0    0      0     0    0           0   \n",
       "386       1              1              0    2      2     2    2           2   \n",
       "390       2              2              0    0      0     0    0           0   \n",
       "\n",
       "     AJAX  Bootstrap  MongoDB  Node.js  ReactJS Performance_PG Performance_UG  \\\n",
       "1       0          0        0        0        0              0     85.50        \n",
       "3       0          0        0        0        0              0      6.86        \n",
       "4       0          0        2        2        2              0      6.38        \n",
       "9       0          0        0        0        2     71.00          60.00        \n",
       "11      0          0        0        0        0              0      7.60        \n",
       "..    ...        ...      ...      ...      ...            ...            ...   \n",
       "369     0          0        0        0        0     67.00          56.00        \n",
       "374     0          2        0        0        0      7.60           7.60        \n",
       "380     0          0        0        0        0              0      9.00        \n",
       "386     0          2        0        0        0              0     75.50        \n",
       "390     0          0        0        0        0              0      6.50        \n",
       "\n",
       "     Current Year Of Graduation  Cluster Labels  \n",
       "1                          2019               3  \n",
       "3                          2019               3  \n",
       "4                          2018               3  \n",
       "9                          2020               3  \n",
       "11                         2020               3  \n",
       "..                          ...             ...  \n",
       "369                        2020               3  \n",
       "374                        2019               3  \n",
       "380                        2020               3  \n",
       "386                        2020               3  \n",
       "390                        2020               3  \n",
       "\n",
       "[98 rows x 17 columns]"
      ]
     },
     "execution_count": 85,
     "metadata": {},
     "output_type": "execute_result"
    }
   ],
   "source": [
    "viz.loc[viz['Cluster Labels'] == 3]"
   ]
  },
  {
   "cell_type": "code",
   "execution_count": null,
   "metadata": {},
   "outputs": [],
   "source": []
  }
 ],
 "metadata": {
  "kernelspec": {
   "display_name": "Python 3",
   "language": "python",
   "name": "python3"
  },
  "language_info": {
   "codemirror_mode": {
    "name": "ipython",
    "version": 3
   },
   "file_extension": ".py",
   "mimetype": "text/x-python",
   "name": "python",
   "nbconvert_exporter": "python",
   "pygments_lexer": "ipython3",
   "version": "3.7.6"
  }
 },
 "nbformat": 4,
 "nbformat_minor": 2
}
